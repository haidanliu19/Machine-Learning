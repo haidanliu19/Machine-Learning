{
  "nbformat": 4,
  "nbformat_minor": 0,
  "metadata": {
    "colab": {
      "name": "Chapter 9_2.ipynb",
      "provenance": [],
      "collapsed_sections": []
    },
    "kernelspec": {
      "name": "python3",
      "display_name": "Python 3"
    },
    "language_info": {
      "name": "python"
    },
    "accelerator": "GPU"
  },
  "cells": [
    {
      "cell_type": "code",
      "metadata": {
        "colab": {
          "base_uri": "https://localhost:8080/"
        },
        "id": "F7bNTAufq53L",
        "outputId": "a35eef58-f884-4271-cd15-1803585840d4"
      },
      "source": [
        "%tensorflow_version 1.x"
      ],
      "execution_count": 2,
      "outputs": [
        {
          "output_type": "stream",
          "text": [
            "TensorFlow 1.x selected.\n"
          ],
          "name": "stdout"
        }
      ]
    },
    {
      "cell_type": "code",
      "metadata": {
        "colab": {
          "base_uri": "https://localhost:8080/"
        },
        "id": "F-IMdj3rrDLk",
        "outputId": "3a258616-650c-4000-f517-c38d8caef6f2"
      },
      "source": [
        "import tensorflow as tf\n",
        "from tensorflow.examples.tutorials.mnist import input_data\n",
        "mnist = input_data.read_data_sets('./data/mnist', one_hot=True)"
      ],
      "execution_count": 14,
      "outputs": [
        {
          "output_type": "stream",
          "text": [
            "Extracting ./data/mnist/train-images-idx3-ubyte.gz\n",
            "Extracting ./data/mnist/train-labels-idx1-ubyte.gz\n",
            "Extracting ./data/mnist/t10k-images-idx3-ubyte.gz\n",
            "Extracting ./data/mnist/t10k-labels-idx1-ubyte.gz\n"
          ],
          "name": "stdout"
        }
      ]
    },
    {
      "cell_type": "code",
      "metadata": {
        "id": "xvo-DMX3rDPF"
      },
      "source": [
        "x_true = tf.placeholder(tf.float32, [None, 28,28,1])\n",
        "y_true = tf.placeholder(tf.float32, [None,10])"
      ],
      "execution_count": 16,
      "outputs": []
    },
    {
      "cell_type": "code",
      "metadata": {
        "id": "xT-bY1RpvnA3"
      },
      "source": [
        "weight_1 = tf.Variable(tf.truncated_normal([3, 3,1,32], stddev=0.01))\n",
        "hidden_1 = tf.nn.conv2d(x_true,weight_1, strides=[1,1,1,1],padding='SAME')\n",
        "hidden_1 = tf.nn.relu(hidden_1)\n",
        "hidden_1 = tf.nn.max_pool(hidden_1, ksize=[1,2,2,1], strides=[1,2,2,1],padding='SAME')\n",
        "hidden_1 = tf.nn.dropout(hidden_1, keep_prob=0.8)"
      ],
      "execution_count": 17,
      "outputs": []
    },
    {
      "cell_type": "code",
      "metadata": {
        "id": "oO98DnYmrDR_"
      },
      "source": [
        "weight_2 = tf.Variable(tf.truncated_normal([3, 3,32,64], stddev=0.01))\n",
        "hidden_2 = tf.nn.conv2d(hidden_1,weight_2, strides=[1,1,1,1],padding='SAME')\n",
        "hidden_2 = tf.nn.relu(hidden_2)\n",
        "hidden_2 = tf.nn.max_pool(hidden_2, ksize=[1,2,2,1], strides=[1,2,2,1],padding='SAME')"
      ],
      "execution_count": 18,
      "outputs": []
    },
    {
      "cell_type": "code",
      "metadata": {
        "id": "iJvj2bNKrDVE"
      },
      "source": [
        "hidden_2 = tf.reshape(hidden_2, [-1, 7*7*64])\n",
        "hidden_2 = tf.nn.dropout(hidden_2, keep_prob=0.8)"
      ],
      "execution_count": 19,
      "outputs": []
    },
    {
      "cell_type": "code",
      "metadata": {
        "id": "KGGnpvicrzFo"
      },
      "source": [
        "weight_3 = tf.Variable(tf.truncated_normal([7*7*64, 256],stddev=0.01))\n",
        "fc_1 = tf.matmul(hidden_2, weight_3)\n",
        "fc_1 = tf.nn.relu(fc_1)\n",
        "fc_1 = tf.nn.dropout(fc_1,0.5)"
      ],
      "execution_count": 20,
      "outputs": []
    },
    {
      "cell_type": "code",
      "metadata": {
        "id": "8piSclATr2K8"
      },
      "source": [
        "weight_4 = tf.Variable(tf.truncated_normal([256, 10],stddev=0.01))\n",
        "y_pred = tf.matmul(fc_1, weight_4)"
      ],
      "execution_count": 21,
      "outputs": []
    },
    {
      "cell_type": "code",
      "metadata": {
        "id": "pcuLD8JYsL21"
      },
      "source": [
        "cost = tf.nn.softmax_cross_entropy_with_logits(logits=y_pred,labels=y_true)\n",
        "cost = tf.reduce_mean(cost)\n",
        "optimizer = tf.train.AdamOptimizer(learning_rate=0.01)\n",
        "optimizer = optimizer.minimize(cost)"
      ],
      "execution_count": 22,
      "outputs": []
    },
    {
      "cell_type": "code",
      "metadata": {
        "id": "OzbMQ9gZsL6J"
      },
      "source": [
        "sess = tf.Session()\n",
        "sess.run(tf.global_variables_initializer())"
      ],
      "execution_count": 23,
      "outputs": []
    },
    {
      "cell_type": "code",
      "metadata": {
        "colab": {
          "base_uri": "https://localhost:8080/"
        },
        "id": "4uKBYs5csL9m",
        "outputId": "c64156e0-41b5-4849-f10c-b327e5e22951"
      },
      "source": [
        "batch_size = 100\n",
        "num_batch = int(mnist.train.num_examples /batch_size)\n",
        "num_batch"
      ],
      "execution_count": 24,
      "outputs": [
        {
          "output_type": "execute_result",
          "data": {
            "text/plain": [
              "550"
            ]
          },
          "metadata": {
            "tags": []
          },
          "execution_count": 24
        }
      ]
    },
    {
      "cell_type": "code",
      "metadata": {
        "colab": {
          "base_uri": "https://localhost:8080/"
        },
        "id": "qSTtNWDqsMA0",
        "outputId": "6fa22369-c5df-4f87-d118-919068918cd6"
      },
      "source": [
        "for epoch in range(10):\n",
        "    total_cost =0\n",
        "    for i in range(num_batch):\n",
        "        batch_xs, batch_ys = mnist.train.next_batch(batch_size)\n",
        "        batch_xs = batch_xs.reshape(-1,28,28,1)\n",
        "        _, cost_value = sess.run([optimizer,cost],{x_true:batch_xs,y_true:batch_ys})\n",
        "        total_cost += cost_value\n",
        "    print(\"Epoch : {0}, Cost :{1}\".format(epoch +1, total_cost/ num_batch))\n",
        "print(\"최적화를 완료했습니다.\")"
      ],
      "execution_count": 25,
      "outputs": [
        {
          "output_type": "stream",
          "text": [
            "Epoch : 1, Cost :0.255485615872524\n",
            "Epoch : 2, Cost :0.13771518851715056\n",
            "Epoch : 3, Cost :0.12304228668355129\n",
            "Epoch : 4, Cost :0.11783593319525773\n",
            "Epoch : 5, Cost :0.12024220111695202\n",
            "Epoch : 6, Cost :0.11249183411286635\n",
            "Epoch : 7, Cost :0.10807067625478588\n",
            "Epoch : 8, Cost :0.11172409425997598\n",
            "Epoch : 9, Cost :0.10639627350832928\n",
            "Epoch : 10, Cost :0.10864399339580401\n",
            "최적화를 완료했습니다.\n"
          ],
          "name": "stdout"
        }
      ]
    },
    {
      "cell_type": "code",
      "metadata": {
        "colab": {
          "base_uri": "https://localhost:8080/"
        },
        "id": "dThGzrUouZRD",
        "outputId": "69dc0b1c-b95d-4d10-9130-ec5bdba4a3d4"
      },
      "source": [
        "correct_prediction = tf.equal(tf.argmax(y_pred,1), tf.argmax(y_true,1))\n",
        "accuracy = tf.reduce_mean(tf.cast(correct_prediction, tf.float32))\n",
        "print(\"정확도:{0}\".format(sess.run(accuracy, {x_true:mnist.test.images.reshape(-1,28,28,1),y_true:mnist.test.labels})))"
      ],
      "execution_count": 28,
      "outputs": [
        {
          "output_type": "stream",
          "text": [
            "정확도:0.9688000082969666\n"
          ],
          "name": "stdout"
        }
      ]
    },
    {
      "cell_type": "code",
      "metadata": {
        "id": "wZEK6Xw2xwlW"
      },
      "source": [
        " "
      ],
      "execution_count": null,
      "outputs": []
    }
  ]
}