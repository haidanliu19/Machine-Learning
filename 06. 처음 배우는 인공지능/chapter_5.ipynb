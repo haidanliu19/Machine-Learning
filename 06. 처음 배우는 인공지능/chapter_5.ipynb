{
  "nbformat": 4,
  "nbformat_minor": 0,
  "metadata": {
    "colab": {
      "name": "chapter 5.ipynb",
      "provenance": [],
      "collapsed_sections": []
    },
    "kernelspec": {
      "name": "python3",
      "display_name": "Python 3"
    },
    "language_info": {
      "name": "python"
    }
  },
  "cells": [
    {
      "cell_type": "code",
      "metadata": {
        "colab": {
          "base_uri": "https://localhost:8080/"
        },
        "id": "9L5taibb_WbT",
        "outputId": "8a1367ad-f256-48da-9d7b-70b03fd1f6d3"
      },
      "source": [
        "%tensorflow_version 1.x"
      ],
      "execution_count": 1,
      "outputs": [
        {
          "output_type": "stream",
          "text": [
            "TensorFlow 1.x selected.\n"
          ],
          "name": "stdout"
        }
      ]
    },
    {
      "cell_type": "code",
      "metadata": {
        "id": "hLVVJyaA_dyk"
      },
      "source": [
        "import tensorflow as tf\n",
        "import numpy as np"
      ],
      "execution_count": 2,
      "outputs": []
    },
    {
      "cell_type": "code",
      "metadata": {
        "colab": {
          "base_uri": "https://localhost:8080/"
        },
        "id": "05W9fI0d_d16",
        "outputId": "38fb09f3-9694-4a52-b12f-63fcd0e7c399"
      },
      "source": [
        "from tensorflow.examples.tutorials.mnist import input_data\n",
        "mnist = input_data.read_data_sets(\"./data/mnist\",one_hot=True)"
      ],
      "execution_count": 5,
      "outputs": [
        {
          "output_type": "stream",
          "text": [
            "Extracting ./data/mnist/train-images-idx3-ubyte.gz\n",
            "Extracting ./data/mnist/train-labels-idx1-ubyte.gz\n",
            "Extracting ./data/mnist/t10k-images-idx3-ubyte.gz\n",
            "Extracting ./data/mnist/t10k-labels-idx1-ubyte.gz\n"
          ],
          "name": "stdout"
        }
      ]
    },
    {
      "cell_type": "code",
      "metadata": {
        "colab": {
          "base_uri": "https://localhost:8080/"
        },
        "id": "E7d3L7nA_d5P",
        "outputId": "977f9751-0899-4a56-8ad8-20c9989e8265"
      },
      "source": [
        "print(len(mnist.train.labels))\n",
        "print(len(mnist.train.images))"
      ],
      "execution_count": 6,
      "outputs": [
        {
          "output_type": "stream",
          "text": [
            "55000\n",
            "55000\n"
          ],
          "name": "stdout"
        }
      ]
    },
    {
      "cell_type": "code",
      "metadata": {
        "colab": {
          "base_uri": "https://localhost:8080/"
        },
        "id": "x0z5D2tF_49S",
        "outputId": "1356de98-0ca7-4ff2-81de-58ab1a058b83"
      },
      "source": [
        "print(mnist.validation.num_examples)\n",
        "print(mnist.test.num_examples)"
      ],
      "execution_count": 8,
      "outputs": [
        {
          "output_type": "stream",
          "text": [
            "5000\n",
            "10000\n"
          ],
          "name": "stdout"
        }
      ]
    },
    {
      "cell_type": "code",
      "metadata": {
        "colab": {
          "base_uri": "https://localhost:8080/"
        },
        "id": "op5TfEf7ADjd",
        "outputId": "214f53b9-c330-4996-c01b-538a91d8a7e4"
      },
      "source": [
        "mnist.test.labels.shape"
      ],
      "execution_count": 9,
      "outputs": [
        {
          "output_type": "execute_result",
          "data": {
            "text/plain": [
              "(10000, 10)"
            ]
          },
          "metadata": {
            "tags": []
          },
          "execution_count": 9
        }
      ]
    },
    {
      "cell_type": "code",
      "metadata": {
        "colab": {
          "base_uri": "https://localhost:8080/"
        },
        "id": "PhqA00rBAGvg",
        "outputId": "0f363580-af82-4dd2-dd64-e1b72fd4b775"
      },
      "source": [
        "mnist.test.labels[0:5,:]"
      ],
      "execution_count": 10,
      "outputs": [
        {
          "output_type": "execute_result",
          "data": {
            "text/plain": [
              "array([[0., 0., 0., 0., 0., 0., 0., 1., 0., 0.],\n",
              "       [0., 0., 1., 0., 0., 0., 0., 0., 0., 0.],\n",
              "       [0., 1., 0., 0., 0., 0., 0., 0., 0., 0.],\n",
              "       [1., 0., 0., 0., 0., 0., 0., 0., 0., 0.],\n",
              "       [0., 0., 0., 0., 1., 0., 0., 0., 0., 0.]])"
            ]
          },
          "metadata": {
            "tags": []
          },
          "execution_count": 10
        }
      ]
    },
    {
      "cell_type": "code",
      "metadata": {
        "colab": {
          "base_uri": "https://localhost:8080/"
        },
        "id": "FAdCrBSEAJOV",
        "outputId": "6fa95a62-e426-4351-85ef-2c227b8c4145"
      },
      "source": [
        "mnist.test.cls = np.argmax(mnist.test.labels, axis=1)\n",
        "mnist.test.cls[0:5]"
      ],
      "execution_count": 11,
      "outputs": [
        {
          "output_type": "execute_result",
          "data": {
            "text/plain": [
              "array([7, 2, 1, 0, 4])"
            ]
          },
          "metadata": {
            "tags": []
          },
          "execution_count": 11
        }
      ]
    },
    {
      "cell_type": "code",
      "metadata": {
        "id": "tsAWcPkRAJRq"
      },
      "source": [
        "num_epochs = 30\n",
        "learning_rate = 0.01"
      ],
      "execution_count": 13,
      "outputs": []
    },
    {
      "cell_type": "code",
      "metadata": {
        "id": "Okq59nwcAYxA"
      },
      "source": [
        "num_node_input = 28 *28\n",
        "num_node_hidden1 = 256\n",
        "num_node_hidden2 = 256\n",
        "num_node_output = 10"
      ],
      "execution_count": 14,
      "outputs": []
    },
    {
      "cell_type": "code",
      "metadata": {
        "id": "nR6gT01JAg_X"
      },
      "source": [
        "x_true = tf.placeholder(tf.float32, [None, num_node_input])\n",
        "y_true = tf.placeholder(tf.float32, [None, num_node_output])"
      ],
      "execution_count": 15,
      "outputs": []
    },
    {
      "cell_type": "code",
      "metadata": {
        "id": "OZ3QC4rdApkk"
      },
      "source": [
        "weight_1 = tf.Variable(tf.truncated_normal([num_node_input, num_node_hidden1], stddev = 0.01))\n",
        "bias_1 = tf.Variable(tf.zeros([num_node_hidden1]))"
      ],
      "execution_count": 16,
      "outputs": []
    },
    {
      "cell_type": "code",
      "metadata": {
        "id": "ysJJAzEkApqX"
      },
      "source": [
        "weight_2 = tf.Variable(tf.truncated_normal([num_node_hidden1, num_node_hidden2], stddev = 0.01))\n",
        "bias_2 = tf.Variable(tf.zeros([num_node_hidden2]))"
      ],
      "execution_count": 17,
      "outputs": []
    },
    {
      "cell_type": "code",
      "metadata": {
        "id": "4KuVhhVnApvl"
      },
      "source": [
        "weight_3 = tf.Variable(tf.truncated_normal([num_node_hidden2, num_node_output], stddev = 0.01))\n",
        "bias_3 = tf.Variable(tf.zeros([num_node_output]))"
      ],
      "execution_count": 18,
      "outputs": []
    },
    {
      "cell_type": "code",
      "metadata": {
        "id": "5URt-i17Ap0S"
      },
      "source": [
        "hidden_1 = tf.nn.relu(tf.add(tf.matmul(x_true, weight_1), bias_1))\n",
        "hidden_2 = tf.nn.relu(tf.add(tf.matmul(hidden_1, weight_2), bias_2))\n",
        "y_pred = tf.nn.relu(tf.add(tf.matmul(hidden_2, weight_3), bias_3))"
      ],
      "execution_count": 23,
      "outputs": []
    },
    {
      "cell_type": "code",
      "metadata": {
        "colab": {
          "base_uri": "https://localhost:8080/"
        },
        "id": "jDAjov2eBUfN",
        "outputId": "284e166c-8602-4f8f-af09-1e021a5acdb9"
      },
      "source": [
        "cost = tf.reduce_mean(tf.nn.softmax_cross_entropy_with_logits(logits=y_pred, labels=y_true))\n",
        "optimizer = tf.train.AdamOptimizer(learning_rate).minimize(cost)"
      ],
      "execution_count": 24,
      "outputs": [
        {
          "output_type": "stream",
          "text": [
            "WARNING:tensorflow:From <ipython-input-24-3fde723ac778>:1: softmax_cross_entropy_with_logits (from tensorflow.python.ops.nn_ops) is deprecated and will be removed in a future version.\n",
            "Instructions for updating:\n",
            "\n",
            "Future major versions of TensorFlow will allow gradients to flow\n",
            "into the labels input on backprop by default.\n",
            "\n",
            "See `tf.nn.softmax_cross_entropy_with_logits_v2`.\n",
            "\n"
          ],
          "name": "stdout"
        }
      ]
    },
    {
      "cell_type": "code",
      "metadata": {
        "id": "sqlJHjM0BnrW"
      },
      "source": [
        "sess = tf.Session()\n",
        "sess.run(tf.global_variables_initializer())"
      ],
      "execution_count": 25,
      "outputs": []
    },
    {
      "cell_type": "code",
      "metadata": {
        "id": "4iTkUYvdBukM"
      },
      "source": [
        "batch_size = 100\n",
        "total_batch = int(mnist.train.num_examples/ batch_size)"
      ],
      "execution_count": 26,
      "outputs": []
    },
    {
      "cell_type": "code",
      "metadata": {
        "colab": {
          "base_uri": "https://localhost:8080/"
        },
        "id": "3vKtg2bGB5mn",
        "outputId": "0ba46e1a-8a6b-4410-dab7-b46bab062ea3"
      },
      "source": [
        "for epoch in range(num_epochs):\n",
        "    total_cost = 0\n",
        "    for i in range(total_batch):\n",
        "        batch_xs, batch_ys = mnist.train.next_batch(batch_size)\n",
        "        sess.run(optimizer, {x_true:batch_xs, y_true:batch_ys})\n",
        "        total_cost  += sess.run(cost, {x_true: batch_xs, y_true: batch_ys})\n",
        "    print(\"Epoch :{%04d} % (epoch+1)\", \"Cost : {:.3f}\".format(total_cost/total_batch))\n",
        "\n",
        "print(\"최적화를 완료했습니다.\")"
      ],
      "execution_count": 29,
      "outputs": [
        {
          "output_type": "stream",
          "text": [
            "Epoch :{%04d} % (epoch+1) Cost : 1.410\n",
            "Epoch :{%04d} % (epoch+1) Cost : 1.219\n",
            "Epoch :{%04d} % (epoch+1) Cost : 1.202\n",
            "Epoch :{%04d} % (epoch+1) Cost : 1.195\n",
            "Epoch :{%04d} % (epoch+1) Cost : 1.196\n",
            "Epoch :{%04d} % (epoch+1) Cost : 1.190\n",
            "Epoch :{%04d} % (epoch+1) Cost : 1.185\n",
            "Epoch :{%04d} % (epoch+1) Cost : 0.953\n",
            "Epoch :{%04d} % (epoch+1) Cost : 0.935\n",
            "Epoch :{%04d} % (epoch+1) Cost : 0.928\n",
            "Epoch :{%04d} % (epoch+1) Cost : 0.926\n",
            "Epoch :{%04d} % (epoch+1) Cost : 0.921\n",
            "Epoch :{%04d} % (epoch+1) Cost : 0.929\n",
            "Epoch :{%04d} % (epoch+1) Cost : 0.918\n",
            "Epoch :{%04d} % (epoch+1) Cost : 0.923\n",
            "Epoch :{%04d} % (epoch+1) Cost : 0.917\n",
            "Epoch :{%04d} % (epoch+1) Cost : 0.919\n",
            "Epoch :{%04d} % (epoch+1) Cost : 0.919\n",
            "Epoch :{%04d} % (epoch+1) Cost : 0.916\n",
            "Epoch :{%04d} % (epoch+1) Cost : 0.919\n",
            "Epoch :{%04d} % (epoch+1) Cost : 0.890\n",
            "Epoch :{%04d} % (epoch+1) Cost : 0.748\n",
            "Epoch :{%04d} % (epoch+1) Cost : 0.734\n",
            "Epoch :{%04d} % (epoch+1) Cost : 0.720\n",
            "Epoch :{%04d} % (epoch+1) Cost : 0.711\n",
            "Epoch :{%04d} % (epoch+1) Cost : 0.717\n",
            "Epoch :{%04d} % (epoch+1) Cost : 0.717\n",
            "Epoch :{%04d} % (epoch+1) Cost : 0.709\n",
            "Epoch :{%04d} % (epoch+1) Cost : 0.717\n",
            "Epoch :{%04d} % (epoch+1) Cost : 0.708\n",
            "최적화를 완료했습니다.\n"
          ],
          "name": "stdout"
        }
      ]
    },
    {
      "cell_type": "code",
      "metadata": {
        "colab": {
          "base_uri": "https://localhost:8080/"
        },
        "id": "rF-fk6IyCsrn",
        "outputId": "51c5d2df-7883-43cc-d804-e762d4b869e2"
      },
      "source": [
        "correct_prediction = tf.equal(tf.argmax(y_pred, 1), tf.argmax(y_true, 1))\n",
        "accuracy = tf.reduce_mean(tf.cast(correct_prediction, tf.float32))\n",
        "print(\"정확도:\", sess.run(accuracy, {x_true:mnist.test.images, y_true: mist.test.labels}))"
      ],
      "execution_count": 30,
      "outputs": [
        {
          "output_type": "stream",
          "text": [
            "정확도: 0.7699\n"
          ],
          "name": "stdout"
        }
      ]
    }
  ]
}