{
  "nbformat": 4,
  "nbformat_minor": 0,
  "metadata": {
    "colab": {
      "name": "chapter 4.ipynb",
      "provenance": [],
      "collapsed_sections": []
    },
    "kernelspec": {
      "name": "python3",
      "display_name": "Python 3"
    },
    "language_info": {
      "name": "python"
    }
  },
  "cells": [
    {
      "cell_type": "markdown",
      "metadata": {
        "id": "g-shJuSJ0r42"
      },
      "source": [
        "파이썬의 Q,R  분해"
      ]
    },
    {
      "cell_type": "code",
      "metadata": {
        "colab": {
          "base_uri": "https://localhost:8080/"
        },
        "id": "wLf2S8Eyx882",
        "outputId": "f4be88af-2555-4a10-d015-3f661cdc7a26"
      },
      "source": [
        "import numpy as np\n",
        "import scipy.linalg\n",
        "\n",
        "x = np.ones((9,4))\n",
        "Q,R = scipy.linalg.qr(x)\n",
        "print(x)\n",
        "print(Q)\n",
        "print(R)"
      ],
      "execution_count": 1,
      "outputs": [
        {
          "output_type": "stream",
          "text": [
            "[[1. 1. 1. 1.]\n",
            " [1. 1. 1. 1.]\n",
            " [1. 1. 1. 1.]\n",
            " [1. 1. 1. 1.]\n",
            " [1. 1. 1. 1.]\n",
            " [1. 1. 1. 1.]\n",
            " [1. 1. 1. 1.]\n",
            " [1. 1. 1. 1.]\n",
            " [1. 1. 1. 1.]]\n",
            "[[-0.33333333 -0.33333333 -0.33333333 -0.33333333 -0.33333333 -0.33333333\n",
            "  -0.33333333 -0.33333333 -0.33333333]\n",
            " [-0.33333333  0.91666667 -0.08333333 -0.08333333 -0.08333333 -0.08333333\n",
            "  -0.08333333 -0.08333333 -0.08333333]\n",
            " [-0.33333333 -0.08333333  0.91666667 -0.08333333 -0.08333333 -0.08333333\n",
            "  -0.08333333 -0.08333333 -0.08333333]\n",
            " [-0.33333333 -0.08333333 -0.08333333  0.91666667 -0.08333333 -0.08333333\n",
            "  -0.08333333 -0.08333333 -0.08333333]\n",
            " [-0.33333333 -0.08333333 -0.08333333 -0.08333333  0.91666667 -0.08333333\n",
            "  -0.08333333 -0.08333333 -0.08333333]\n",
            " [-0.33333333 -0.08333333 -0.08333333 -0.08333333 -0.08333333  0.91666667\n",
            "  -0.08333333 -0.08333333 -0.08333333]\n",
            " [-0.33333333 -0.08333333 -0.08333333 -0.08333333 -0.08333333 -0.08333333\n",
            "   0.91666667 -0.08333333 -0.08333333]\n",
            " [-0.33333333 -0.08333333 -0.08333333 -0.08333333 -0.08333333 -0.08333333\n",
            "  -0.08333333  0.91666667 -0.08333333]\n",
            " [-0.33333333 -0.08333333 -0.08333333 -0.08333333 -0.08333333 -0.08333333\n",
            "  -0.08333333 -0.08333333  0.91666667]]\n",
            "[[-3. -3. -3. -3.]\n",
            " [ 0.  0.  0.  0.]\n",
            " [ 0.  0.  0.  0.]\n",
            " [ 0.  0.  0.  0.]\n",
            " [ 0.  0.  0.  0.]\n",
            " [ 0.  0.  0.  0.]\n",
            " [ 0.  0.  0.  0.]\n",
            " [ 0.  0.  0.  0.]\n",
            " [ 0.  0.  0.  0.]]\n"
          ],
          "name": "stdout"
        }
      ]
    },
    {
      "cell_type": "markdown",
      "metadata": {
        "id": "JZL-RAaI2CK2"
      },
      "source": [
        "# 텐서플로를 이용한 선형 회귀 예제"
      ]
    },
    {
      "cell_type": "code",
      "metadata": {
        "colab": {
          "base_uri": "https://localhost:8080/"
        },
        "id": "HDiMm6yY0wzv",
        "outputId": "d99a3a97-0310-4f70-dfa6-a23918ce0cf7"
      },
      "source": [
        "%tensorflow_version 1.*"
      ],
      "execution_count": 2,
      "outputs": [
        {
          "output_type": "stream",
          "text": [
            "`%tensorflow_version` only switches the major version: 1.x or 2.x.\n",
            "You set: `1.*`. This will be interpreted as: `1.x`.\n",
            "\n",
            "\n",
            "TensorFlow 1.x selected.\n"
          ],
          "name": "stdout"
        }
      ]
    },
    {
      "cell_type": "code",
      "metadata": {
        "id": "6aQyhSsL0w3H"
      },
      "source": [
        "import tensorflow as tf\n",
        "import matplotlib.pyplot as plt"
      ],
      "execution_count": 3,
      "outputs": []
    },
    {
      "cell_type": "code",
      "metadata": {
        "colab": {
          "base_uri": "https://localhost:8080/",
          "height": 35
        },
        "id": "MZGAmOuW2Sx2",
        "outputId": "cb1dae75-0050-4ea7-dc0f-9522290e2695"
      },
      "source": [
        "tf.__version__"
      ],
      "execution_count": 4,
      "outputs": [
        {
          "output_type": "execute_result",
          "data": {
            "application/vnd.google.colaboratory.intrinsic+json": {
              "type": "string"
            },
            "text/plain": [
              "'1.15.2'"
            ]
          },
          "metadata": {
            "tags": []
          },
          "execution_count": 4
        }
      ]
    },
    {
      "cell_type": "code",
      "metadata": {
        "id": "gkPU6Jhh2S07"
      },
      "source": [
        "learning_rate = 0.01\n",
        "num_epochs = 1000\n",
        "step_display = 50"
      ],
      "execution_count": 5,
      "outputs": []
    },
    {
      "cell_type": "code",
      "metadata": {
        "id": "06OeUDdJ2S3w"
      },
      "source": [
        "x = [2.7, 4.8 , 9.3 , 13.4,  24.8,  31.3,  48.5,  53.0,  68.1,  74.2,  88.6, 94.5]\n",
        "y = [7.0, 28.8, 22.8, 67.1, 48.8, 100.2, 140.0, 190.2, 215.2, 285.6, 260.3, 251.1]"
      ],
      "execution_count": 9,
      "outputs": []
    },
    {
      "cell_type": "code",
      "metadata": {
        "colab": {
          "base_uri": "https://localhost:8080/"
        },
        "id": "G9Z8kGFe3E8m",
        "outputId": "33646444-9b6d-4f53-dfaa-d16c659a43b4"
      },
      "source": [
        "assert len(x) == len(y)\n",
        "len(x)"
      ],
      "execution_count": 10,
      "outputs": [
        {
          "output_type": "execute_result",
          "data": {
            "text/plain": [
              "12"
            ]
          },
          "metadata": {
            "tags": []
          },
          "execution_count": 10
        }
      ]
    },
    {
      "cell_type": "code",
      "metadata": {
        "id": "si81oNHY3WL1"
      },
      "source": [
        "weight = tf.Variable(tf.random_uniform([1], -1.0, 1.0), name='weight')\n",
        "bias = tf.Variable(tf.random_uniform([1], -1.0, 1.0), name='bias')"
      ],
      "execution_count": 11,
      "outputs": []
    },
    {
      "cell_type": "code",
      "metadata": {
        "id": "taU0GJXL3oYC"
      },
      "source": [
        "x_true = tf.placeholder(dtype=tf.float32, name='x_true')\n",
        "y_true = tf.placeholder(dtype=tf.float32, name='y_true')"
      ],
      "execution_count": 12,
      "outputs": []
    },
    {
      "cell_type": "code",
      "metadata": {
        "id": "kWPvxS-z30rm"
      },
      "source": [
        "y_pred = tf.add(tf.multiply(weight,x_true), bias)"
      ],
      "execution_count": 13,
      "outputs": []
    },
    {
      "cell_type": "code",
      "metadata": {
        "id": "iV2c44Sz37ie"
      },
      "source": [
        "cost = tf.reduce_mean(tf.square(y_pred-y_true))"
      ],
      "execution_count": 14,
      "outputs": []
    },
    {
      "cell_type": "code",
      "metadata": {
        "id": "Qfcf21ES37l1"
      },
      "source": [
        "optimizer = tf.train.AdamOptimizer(learning_rate).minimize(cost)"
      ],
      "execution_count": 15,
      "outputs": []
    },
    {
      "cell_type": "code",
      "metadata": {
        "id": "SxKcrVfG4H5M"
      },
      "source": [
        "init = tf.global_variables_initializer()\n",
        "sess = tf.Session()\n",
        "sess.run(init)"
      ],
      "execution_count": 17,
      "outputs": []
    },
    {
      "cell_type": "code",
      "metadata": {
        "colab": {
          "base_uri": "https://localhost:8080/"
        },
        "id": "3o8tfPez4H8h",
        "outputId": "a30d37ec-f43e-4172-cb78-dbf442ffb332"
      },
      "source": [
        "for epoch in range(num_epochs):\n",
        "    _, c = sess.run([optimizer,cost], feed_dict={x_true:x, y_true:y})\n",
        "    if (epoch+1) % step_display ==0:\n",
        "        print(\"Epoch:{0}, cost: {1} , weight: {2}, bias {3}\".format(epoch+1, c, sess.run(weight), sess.run(bias)))\n",
        "print(\"최적화 작업을 완로했습니다.\") "
      ],
      "execution_count": 19,
      "outputs": [
        {
          "output_type": "stream",
          "text": [
            "Epoch:50, cost: 30246.4140625 , weight: [-0.1331049], bias [0.16059552]\n",
            "Epoch:100, cost: 22321.2109375 , weight: [0.32539114], bias [0.61945844]\n",
            "Epoch:150, cost: 16140.5673828125 , weight: [0.7453565], bias [1.0401874]\n",
            "Epoch:200, cost: 11437.171875 , weight: [1.1253656], bias [1.4214333]\n",
            "Epoch:250, cost: 7952.533203125 , weight: [1.4645953], bias [1.7624502]\n",
            "Epoch:300, cost: 5445.158203125 , weight: [1.7629012], bias [2.063168]\n",
            "Epoch:350, cost: 3696.901611328125 , weight: [2.0209389], bias [2.324308]\n",
            "Epoch:400, cost: 2518.152587890625 , weight: [2.2402203], bias [2.5474308]\n",
            "Epoch:450, cost: 1750.96484375 , weight: [2.423092], bias [2.7349162]\n",
            "Epoch:500, cost: 1269.65478515625 , weight: [2.572626], bias [2.8898485]\n",
            "Epoch:550, cost: 978.9125366210938 , weight: [2.6924372], bias [3.0158355]\n",
            "Epoch:600, cost: 809.9407348632812 , weight: [2.7864594], bias [3.1167884]\n",
            "Epoch:650, cost: 715.5130004882812 , weight: [2.8587036], bias [3.1966817]\n",
            "Epoch:700, cost: 664.7875366210938 , weight: [2.913046], bias [3.2593484]\n",
            "Epoch:750, cost: 638.6005859375 , weight: [2.953052], bias [3.3083127]\n",
            "Epoch:800, cost: 625.60791015625 , weight: [2.9818726], bias [3.3466814]\n",
            "Epoch:850, cost: 619.4105224609375 , weight: [3.0021794], bias [3.3770914]\n",
            "Epoch:900, cost: 616.5640869140625 , weight: [3.0161674], bias [3.4017057]\n",
            "Epoch:950, cost: 615.30078125 , weight: [3.0255759], bias [3.4222367]\n",
            "Epoch:1000, cost: 614.7534790039062 , weight: [3.0317433], bias [3.4400055]\n",
            "최적화 작업을 완로했습니다.\n"
          ],
          "name": "stdout"
        }
      ]
    },
    {
      "cell_type": "code",
      "metadata": {
        "colab": {
          "base_uri": "https://localhost:8080/"
        },
        "id": "tKmQREA04ybF",
        "outputId": "19228313-1a95-4bdf-ccfe-6f4c616c56d7"
      },
      "source": [
        "training_cost = sess.run(cost, feed_dict={x_true:x, y_true:y})\n",
        "print(\"최종 cost: {}\".format(c))\n",
        "print(\"최종 weight: {}\".format(sess.run(weight)))\n",
        "print(\"최종 bias: {}\".format(sess.run(bias)))"
      ],
      "execution_count": 20,
      "outputs": [
        {
          "output_type": "stream",
          "text": [
            "최종 cost: 614.7534790039062\n",
            "최종 weight: [3.0317433]\n",
            "최종 bias: [3.4400055]\n"
          ],
          "name": "stdout"
        }
      ]
    },
    {
      "cell_type": "code",
      "metadata": {
        "colab": {
          "base_uri": "https://localhost:8080/",
          "height": 266
        },
        "id": "Alh30HPz4yeS",
        "outputId": "cde9b193-898b-4f0d-e8f1-fc92d45e4b33"
      },
      "source": [
        "plt.plot(x,y,'ro',label='Original data')\n",
        "plt.plot(x, sess.run(weight) * x + sess.run(bias), label='Optimized line')\n",
        "plt.legend()\n",
        "plt.show()"
      ],
      "execution_count": 21,
      "outputs": [
        {
          "output_type": "display_data",
          "data": {
            "image/png": "[encoded data removed]",
            "text/plain": [
              "<Figure size 432x288 with 1 Axes>"
            ]
          },
          "metadata": {
            "tags": [],
            "needs_background": "light"
          }
        }
      ]
    },
    {
      "cell_type": "code",
      "metadata": {
        "id": "rf8ZwlfT5UHa"
      },
      "source": [
        "sess.close()"
      ],
      "execution_count": 22,
      "outputs": []
    }
  ]
}