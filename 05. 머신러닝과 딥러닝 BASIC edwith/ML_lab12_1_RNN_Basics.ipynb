{
  "nbformat": 4,
  "nbformat_minor": 0,
  "metadata": {
    "colab": {
      "name": "ML lab12-1: RNN - Basics.ipynb",
      "provenance": [],
      "collapsed_sections": []
    },
    "kernelspec": {
      "name": "python3",
      "display_name": "Python 3"
    },
    "language_info": {
      "name": "python"
    },
    "accelerator": "GPU"
  },
  "cells": [
    {
      "cell_type": "code",
      "metadata": {
        "colab": {
          "base_uri": "https://localhost:8080/"
        },
        "id": "SLX6u0T2HMnA",
        "outputId": "06ecc962-6cce-4704-8e12-4b360420de67"
      },
      "source": [
        "%tensorflow_version 1.x"
      ],
      "execution_count": 1,
      "outputs": [
        {
          "output_type": "stream",
          "text": [
            "TensorFlow 1.x selected.\n"
          ],
          "name": "stdout"
        }
      ]
    },
    {
      "cell_type": "code",
      "metadata": {
        "id": "2KchpWbFHRQX"
      },
      "source": [
        "import tensorflow as tf\n",
        "import numpy as np\n",
        "from tensorflow.contrib import rnn\n",
        "import pprint\n",
        "pp = pprint.PrettyPrinter(indent=4)\n",
        "sess = tf.InteractiveSession()"
      ],
      "execution_count": 2,
      "outputs": []
    },
    {
      "cell_type": "code",
      "metadata": {
        "id": "p5UMa6grICuZ"
      },
      "source": [
        "h = [1, 0, 0, 0]\n",
        "e = [0, 1, 0, 0]\n",
        "l = [0, 0, 1, 0]\n",
        "o = [0, 0, 0, 1]"
      ],
      "execution_count": 5,
      "outputs": []
    },
    {
      "cell_type": "code",
      "metadata": {
        "colab": {
          "base_uri": "https://localhost:8080/"
        },
        "id": "DP6PLkd3ICxV",
        "outputId": "47dc4a4e-9500-4de2-9712-f9a4a6949425"
      },
      "source": [
        "hidden_size = 2\n",
        "cell = tf.contrib.rnn.BasicLSTMCell(num_units=hidden_size)\n",
        "\n",
        "x_data = np.array([[[1,0,0,0]]], dtype=np.float32)\n",
        "outputs, _states = tf.nn.dynamic_rnn(cell, x_data, dtype=tf.float32)\n",
        "\n",
        "sess.run(tf.global_variables_initializer())\n",
        "pp.pprint(outputs.eval())"
      ],
      "execution_count": 4,
      "outputs": [
        {
          "output_type": "stream",
          "text": [
            "WARNING:tensorflow:From <ipython-input-4-903ede5d5dff>:2: BasicLSTMCell.__init__ (from tensorflow.python.ops.rnn_cell_impl) is deprecated and will be removed in a future version.\n",
            "Instructions for updating:\n",
            "This class is equivalent as tf.keras.layers.LSTMCell, and will be replaced by that in Tensorflow 2.0.\n",
            "WARNING:tensorflow:From <ipython-input-4-903ede5d5dff>:5: dynamic_rnn (from tensorflow.python.ops.rnn) is deprecated and will be removed in a future version.\n",
            "Instructions for updating:\n",
            "Please use `keras.layers.RNN(cell)`, which is equivalent to this API\n",
            "WARNING:tensorflow:From /tensorflow-1.15.2/python3.7/tensorflow_core/python/ops/rnn_cell_impl.py:735: Layer.add_variable (from tensorflow.python.keras.engine.base_layer) is deprecated and will be removed in a future version.\n",
            "Instructions for updating:\n",
            "Please use `layer.add_weight` method instead.\n",
            "WARNING:tensorflow:From /tensorflow-1.15.2/python3.7/tensorflow_core/python/ops/rnn_cell_impl.py:739: calling Zeros.__init__ (from tensorflow.python.ops.init_ops) with dtype is deprecated and will be removed in a future version.\n",
            "Instructions for updating:\n",
            "Call initializer instance with the dtype argument instead of passing it to the constructor\n",
            "array([[[0.05416449, 0.06824675]]], dtype=float32)\n"
          ],
          "name": "stdout"
        }
      ]
    },
    {
      "cell_type": "markdown",
      "metadata": {
        "id": "o86cBVD5JV_u"
      },
      "source": [
        "# Unfolding to n sequences"
      ]
    },
    {
      "cell_type": "code",
      "metadata": {
        "colab": {
          "base_uri": "https://localhost:8080/"
        },
        "id": "G7nJGKhGIC0R",
        "outputId": "b0df74dc-20d1-4cf9-9ddc-8ddb6178558a"
      },
      "source": [
        "with tf.variable_scope('2_Unfolding_to_n_sequences') as scope:\n",
        "    hidden_size = 2\n",
        "    cell = tf.contrib.rnn.BasicLSTMCell(num_units=hidden_size)\n",
        "\n",
        "    x_data = np.array([[h, e, l, l, o]], dtype=np.float32)\n",
        "    print(x_data.shape)\n",
        "    pp.pprint(x_data)\n",
        "    outputs, _states = tf.nn.dynamic_rnn(cell, x_data, dtype=tf.float32)\n",
        "    sess.run(tf.global_variables_initializer())\n",
        "    pp.pprint(outputs.eval())"
      ],
      "execution_count": 10,
      "outputs": [
        {
          "output_type": "stream",
          "text": [
            "(1, 5, 4)\n",
            "array([[[1., 0., 0., 0.],\n",
            "        [0., 1., 0., 0.],\n",
            "        [0., 0., 1., 0.],\n",
            "        [0., 0., 1., 0.],\n",
            "        [0., 0., 0., 1.]]], dtype=float32)\n",
            "array([[[-0.12779133, -0.1514067 ],\n",
            "        [-0.11277027, -0.1793635 ],\n",
            "        [ 0.0390485 , -0.11866508],\n",
            "        [ 0.14652425, -0.0805378 ],\n",
            "        [ 0.07470444, -0.15247257]]], dtype=float32)\n"
          ],
          "name": "stdout"
        }
      ]
    },
    {
      "cell_type": "markdown",
      "metadata": {
        "id": "Mnw163xkJ5PL"
      },
      "source": [
        "# Batching input"
      ]
    },
    {
      "cell_type": "code",
      "metadata": {
        "colab": {
          "base_uri": "https://localhost:8080/"
        },
        "id": "qW_nxfzJIC3i",
        "outputId": "176ddb54-4d6c-4ad7-c7ac-607b679eba4d"
      },
      "source": [
        "with tf.variable_scope('3_batches_dynamic_length') as scope:\n",
        "    x_data = np.array([[h, e, l, l, o],\n",
        "                       [e, o, l, l, l],\n",
        "                       [l, l, e, e, l]], dtype=np.float32)\n",
        "\n",
        "    pp.pprint(x_data)\n",
        "    cell = rnn.BasicLSTMCell(num_units=2, state_is_tuple=True)\n",
        "    outputs, _states = tf.nn.dynamic_rnn(cell, x_data, dtype=tf.float32)\n",
        "\n",
        "    sess.run(tf.global_variables_initializer())\n",
        "    pp.pprint(outputs.eval())"
      ],
      "execution_count": 8,
      "outputs": [
        {
          "output_type": "stream",
          "text": [
            "array([[[1., 0., 0., 0.],\n",
            "        [0., 1., 0., 0.],\n",
            "        [0., 0., 1., 0.],\n",
            "        [0., 0., 1., 0.],\n",
            "        [0., 0., 0., 1.]],\n",
            "\n",
            "       [[0., 1., 0., 0.],\n",
            "        [0., 0., 0., 1.],\n",
            "        [0., 0., 1., 0.],\n",
            "        [0., 0., 1., 0.],\n",
            "        [0., 0., 1., 0.]],\n",
            "\n",
            "       [[0., 0., 1., 0.],\n",
            "        [0., 0., 1., 0.],\n",
            "        [0., 1., 0., 0.],\n",
            "        [0., 1., 0., 0.],\n",
            "        [0., 0., 1., 0.]]], dtype=float32)\n",
            "array([[[ 0.12838458,  0.12832838],\n",
            "        [-0.00708324, -0.0285906 ],\n",
            "        [ 0.09854553, -0.05616604],\n",
            "        [ 0.1624906 , -0.06847771],\n",
            "        [ 0.16721764, -0.02078778]],\n",
            "\n",
            "       [[-0.10944309, -0.11011011],\n",
            "        [ 0.01429202, -0.06921393],\n",
            "        [ 0.11152939, -0.10955014],\n",
            "        [ 0.16973326, -0.11378601],\n",
            "        [ 0.20493641, -0.11612549]],\n",
            "\n",
            "       [[ 0.10152265, -0.02391476],\n",
            "        [ 0.16463652, -0.04104408],\n",
            "        [ 0.08225869, -0.13499741],\n",
            "        [-0.05965255, -0.21378945],\n",
            "        [ 0.07661948, -0.27300578]]], dtype=float32)\n"
          ],
          "name": "stdout"
        }
      ]
    },
    {
      "cell_type": "code",
      "metadata": {
        "id": "DWPnkjX7IC6k"
      },
      "source": [
        ""
      ],
      "execution_count": null,
      "outputs": []
    }
  ]
}