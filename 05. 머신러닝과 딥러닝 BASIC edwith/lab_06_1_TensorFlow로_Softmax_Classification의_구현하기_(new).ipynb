{
  "nbformat": 4,
  "nbformat_minor": 0,
  "metadata": {
    "colab": {
      "name": "lab 06-1: TensorFlow로 Softmax Classification의 구현하기 (new).ipynb",
      "provenance": [],
      "collapsed_sections": []
    },
    "kernelspec": {
      "name": "python3",
      "display_name": "Python 3"
    },
    "language_info": {
      "name": "python"
    }
  },
  "cells": [
    {
      "cell_type": "code",
      "metadata": {
        "colab": {
          "base_uri": "https://localhost:8080/"
        },
        "id": "JlGqzL77RbIT",
        "outputId": "d411ad2e-b7ca-4cf5-929c-03c3790bb808"
      },
      "source": [
        "%tensorflow_version 1.x"
      ],
      "execution_count": 1,
      "outputs": [
        {
          "output_type": "stream",
          "text": [
            "TensorFlow 1.x selected.\n"
          ],
          "name": "stdout"
        }
      ]
    },
    {
      "cell_type": "code",
      "metadata": {
        "id": "HXjFD27_Rf7E"
      },
      "source": [
        "import tensorflow as tf\n",
        "tf.set_random_seed(777)  # for reproducibility\n",
        "\n",
        "x_data = [[1, 2, 1, 1],\n",
        "          [2, 1, 3, 2],\n",
        "          [3, 1, 3, 4],\n",
        "          [4, 1, 5, 5],\n",
        "          [1, 7, 5, 5],\n",
        "          [1, 2, 5, 6],\n",
        "          [1, 6, 6, 6],\n",
        "          [1, 7, 7, 7]]\n",
        "y_data = [[0, 0, 1],\n",
        "          [0, 0, 1],\n",
        "          [0, 0, 1],\n",
        "          [0, 1, 0],\n",
        "          [0, 1, 0],\n",
        "          [0, 1, 0],\n",
        "          [1, 0, 0],\n",
        "          [1, 0, 0]]\n",
        "# one -hot encoding"
      ],
      "execution_count": 2,
      "outputs": []
    },
    {
      "cell_type": "code",
      "metadata": {
        "id": "8dFEypOWR7G2"
      },
      "source": [
        "X = tf.placeholder(\"float\",[None,4])\n",
        "Y = tf.placeholder(\"float\",[None, 3])\n",
        "nb_classes = 3\n",
        "\n",
        "W = tf.Variable(tf.random_normal([4,nb_classes]),name='weight')\n",
        "b = tf.Variable(tf.random_normal([nb_classes]),name='bias')"
      ],
      "execution_count": 6,
      "outputs": []
    },
    {
      "cell_type": "code",
      "metadata": {
        "id": "JTwijkxUR7-F"
      },
      "source": [
        "hypothesis = tf.nn.softmax(tf.matmul(X,W)+b)\n",
        "\n",
        "cost = tf.reduce_mean(-tf.reduce_sum(Y*tf.log(hypothesis), axis =1))\n",
        "optimizer = tf.train.GradientDescentOptimizer(learning_rate=0.1).minimize(cost)"
      ],
      "execution_count": 7,
      "outputs": []
    },
    {
      "cell_type": "code",
      "metadata": {
        "colab": {
          "base_uri": "https://localhost:8080/"
        },
        "id": "7V-SeJA6R8Ba",
        "outputId": "b01b46fd-946a-4319-f8c3-cd811290e578"
      },
      "source": [
        "with tf.Session() as sess:\n",
        "    sess.run(tf.global_variables_initializer())\n",
        "\n",
        "    for step in range(2001):\n",
        "        sess.run(optimizer, feed_dict={X:x_data, Y:y_data})\n",
        "        if step % 200 ==0:\n",
        "            print(step, sess.run(cost, feed_dict={X:x_data, Y:y_data}))\n",
        "\n",
        "    print('--------------')\n",
        "\n",
        "    # Testing & One-hot encoding\n",
        "    a = sess.run(hypothesis, feed_dict={X: [[1, 11, 7, 9]]})\n",
        "    print(a, sess.run(tf.argmax(a, 1)))\n",
        "\n",
        "    print('--------------')\n",
        "    b = sess.run(hypothesis, feed_dict={X: [[1, 3, 4, 3]]})\n",
        "    print(b, sess.run(tf.argmax(b, 1)))\n",
        "\n",
        "    print('--------------')\n",
        "    c = sess.run(hypothesis, feed_dict={X: [[1, 1, 0, 1]]})\n",
        "    print(c, sess.run(tf.argmax(c, 1)))\n",
        "\n",
        "    print('--------------')\n",
        "    all = sess.run(hypothesis, feed_dict={X: [[1, 11, 7, 9], [1, 3, 4, 3], [1, 1, 0, 1]]})\n",
        "    print(all, sess.run(tf.argmax(all, 1)))"
      ],
      "execution_count": 10,
      "outputs": [
        {
          "output_type": "stream",
          "text": [
            "0 9.2413435\n",
            "200 0.7027065\n",
            "400 0.5808537\n",
            "600 0.4847318\n",
            "800 0.39339548\n",
            "1000 0.3031822\n",
            "1200 0.23873565\n",
            "1400 0.21637341\n",
            "1600 0.19772318\n",
            "1800 0.18190843\n",
            "2000 0.16834004\n",
            "--------------\n",
            "[[1.925326e-02 9.807370e-01 9.836072e-06]] [1]\n",
            "--------------\n",
            "[[0.7523439  0.22949624 0.0181599 ]] [0]\n",
            "--------------\n",
            "[[2.5406234e-08 4.3434306e-04 9.9956566e-01]] [2]\n",
            "--------------\n",
            "[[1.9253293e-02 9.8073685e-01 9.8360806e-06]\n",
            " [7.5234407e-01 2.2949606e-01 1.8159889e-02]\n",
            " [2.5406235e-08 4.3434306e-04 9.9956566e-01]] [1 0 2]\n"
          ],
          "name": "stdout"
        }
      ]
    },
    {
      "cell_type": "code",
      "metadata": {
        "id": "8LGappMGR8El"
      },
      "source": [
        ""
      ],
      "execution_count": null,
      "outputs": []
    }
  ]
}