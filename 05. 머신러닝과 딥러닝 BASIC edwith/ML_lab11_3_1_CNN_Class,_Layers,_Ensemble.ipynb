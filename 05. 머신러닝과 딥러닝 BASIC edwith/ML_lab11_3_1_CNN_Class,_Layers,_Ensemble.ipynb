{
  "nbformat": 4,
  "nbformat_minor": 0,
  "metadata": {
    "colab": {
      "name": "ML lab11-3_1: CNN Class, Layers, Ensemble.ipynb",
      "provenance": [],
      "collapsed_sections": []
    },
    "kernelspec": {
      "name": "python3",
      "display_name": "Python 3"
    },
    "language_info": {
      "name": "python"
    },
    "accelerator": "GPU"
  },
  "cells": [
    {
      "cell_type": "code",
      "metadata": {
        "colab": {
          "base_uri": "https://localhost:8080/"
        },
        "id": "L4XwK6kVKpuh",
        "outputId": "f8634e74-a4a0-4d27-faad-c7261c4cd675"
      },
      "source": [
        "%tensorflow_version 1.x"
      ],
      "execution_count": 1,
      "outputs": [
        {
          "output_type": "stream",
          "text": [
            "TensorFlow 1.x selected.\n"
          ],
          "name": "stdout"
        }
      ]
    },
    {
      "cell_type": "code",
      "metadata": {
        "colab": {
          "base_uri": "https://localhost:8080/"
        },
        "id": "FPCCo5Oh2luI",
        "outputId": "7c8f4956-6860-4d8f-ee9b-ffede9fb1a08"
      },
      "source": [
        "import tensorflow as tf\n",
        "import numpy as np\n",
        "# import matplotlib.pyplot as plt\n",
        "\n",
        "from tensorflow.examples.tutorials.mnist import input_data\n",
        "tf.set_random_seed(777)  # reproducibility\n",
        "\n",
        "mnist = input_data.read_data_sets(\"MNIST_data/\", one_hot=True)\n",
        "# Check out https://www.tensorflow.org/get_started/mnist/beginners for\n",
        "# more information about the mnist dataset\n",
        "\n",
        "# hyper parameters\n",
        "learning_rate = 0.001\n",
        "training_epochs = 15\n",
        "batch_size = 100"
      ],
      "execution_count": 2,
      "outputs": [
        {
          "output_type": "stream",
          "text": [
            "WARNING:tensorflow:From <ipython-input-2-be9249424273>:8: read_data_sets (from tensorflow.contrib.learn.python.learn.datasets.mnist) is deprecated and will be removed in a future version.\n",
            "Instructions for updating:\n",
            "Please use alternatives such as official/mnist/dataset.py from tensorflow/models.\n",
            "WARNING:tensorflow:From /tensorflow-1.15.2/python3.7/tensorflow_core/contrib/learn/python/learn/datasets/mnist.py:260: maybe_download (from tensorflow.contrib.learn.python.learn.datasets.base) is deprecated and will be removed in a future version.\n",
            "Instructions for updating:\n",
            "Please write your own downloading logic.\n",
            "WARNING:tensorflow:From /tensorflow-1.15.2/python3.7/tensorflow_core/contrib/learn/python/learn/datasets/mnist.py:262: extract_images (from tensorflow.contrib.learn.python.learn.datasets.mnist) is deprecated and will be removed in a future version.\n",
            "Instructions for updating:\n",
            "Please use tf.data to implement this functionality.\n",
            "Extracting MNIST_data/train-images-idx3-ubyte.gz\n",
            "WARNING:tensorflow:From /tensorflow-1.15.2/python3.7/tensorflow_core/contrib/learn/python/learn/datasets/mnist.py:267: extract_labels (from tensorflow.contrib.learn.python.learn.datasets.mnist) is deprecated and will be removed in a future version.\n",
            "Instructions for updating:\n",
            "Please use tf.data to implement this functionality.\n",
            "Extracting MNIST_data/train-labels-idx1-ubyte.gz\n",
            "WARNING:tensorflow:From /tensorflow-1.15.2/python3.7/tensorflow_core/contrib/learn/python/learn/datasets/mnist.py:110: dense_to_one_hot (from tensorflow.contrib.learn.python.learn.datasets.mnist) is deprecated and will be removed in a future version.\n",
            "Instructions for updating:\n",
            "Please use tf.one_hot on tensors.\n",
            "Extracting MNIST_data/t10k-images-idx3-ubyte.gz\n",
            "Extracting MNIST_data/t10k-labels-idx1-ubyte.gz\n",
            "WARNING:tensorflow:From /tensorflow-1.15.2/python3.7/tensorflow_core/contrib/learn/python/learn/datasets/mnist.py:290: DataSet.__init__ (from tensorflow.contrib.learn.python.learn.datasets.mnist) is deprecated and will be removed in a future version.\n",
            "Instructions for updating:\n",
            "Please use alternatives such as official/mnist/dataset.py from tensorflow/models.\n"
          ],
          "name": "stdout"
        }
      ]
    },
    {
      "cell_type": "code",
      "metadata": {
        "id": "iyOMLj7cKvqH"
      },
      "source": [
        "class Model:\n",
        "\n",
        "    def __init__(self, sess, name):\n",
        "        self.sess = sess\n",
        "        self.name = name\n",
        "        self._build_net()\n",
        "\n",
        "    def _build_net(self):\n",
        "        with tf.variable_scope(self.name):\n",
        "            # dropout (keep_prob) rate  0.7~0.5 on training, but should be 1\n",
        "            # for testing\n",
        "            self.keep_prob = tf.placeholder(tf.float32)\n",
        "\n",
        "            # input place holders\n",
        "            self.X = tf.placeholder(tf.float32, [None, 784])\n",
        "            # img 28x28x1 (black/white)\n",
        "            X_img = tf.reshape(self.X, [-1, 28, 28, 1])\n",
        "            self.Y = tf.placeholder(tf.float32, [None, 10])\n",
        "\n",
        "            # L1 ImgIn shape=(?, 28, 28, 1)\n",
        "            W1 = tf.Variable(tf.random_normal([3, 3, 1, 32], stddev=0.01))\n",
        "            #    Conv     -> (?, 28, 28, 32)\n",
        "            #    Pool     -> (?, 14, 14, 32)\n",
        "            L1 = tf.nn.conv2d(X_img, W1, strides=[1, 1, 1, 1], padding='SAME')\n",
        "            L1 = tf.nn.relu(L1)\n",
        "            L1 = tf.nn.max_pool(L1, ksize=[1, 2, 2, 1],\n",
        "                                strides=[1, 2, 2, 1], padding='SAME')\n",
        "            L1 = tf.nn.dropout(L1, keep_prob=self.keep_prob)\n",
        "            '''\n",
        "            Tensor(\"Conv2D:0\", shape=(?, 28, 28, 32), dtype=float32)\n",
        "            Tensor(\"Relu:0\", shape=(?, 28, 28, 32), dtype=float32)\n",
        "            Tensor(\"MaxPool:0\", shape=(?, 14, 14, 32), dtype=float32)\n",
        "            Tensor(\"dropout/mul:0\", shape=(?, 14, 14, 32), dtype=float32)\n",
        "            '''\n",
        "\n",
        "            # L2 ImgIn shape=(?, 14, 14, 32)\n",
        "            W2 = tf.Variable(tf.random_normal([3, 3, 32, 64], stddev=0.01))\n",
        "            #    Conv      ->(?, 14, 14, 64)\n",
        "            #    Pool      ->(?, 7, 7, 64)\n",
        "            L2 = tf.nn.conv2d(L1, W2, strides=[1, 1, 1, 1], padding='SAME')\n",
        "            L2 = tf.nn.relu(L2)\n",
        "            L2 = tf.nn.max_pool(L2, ksize=[1, 2, 2, 1],\n",
        "                                strides=[1, 2, 2, 1], padding='SAME')\n",
        "            L2 = tf.nn.dropout(L2, keep_prob=self.keep_prob)\n",
        "            '''\n",
        "            Tensor(\"Conv2D_1:0\", shape=(?, 14, 14, 64), dtype=float32)\n",
        "            Tensor(\"Relu_1:0\", shape=(?, 14, 14, 64), dtype=float32)\n",
        "            Tensor(\"MaxPool_1:0\", shape=(?, 7, 7, 64), dtype=float32)\n",
        "            Tensor(\"dropout_1/mul:0\", shape=(?, 7, 7, 64), dtype=float32)\n",
        "            '''\n",
        "\n",
        "            # L3 ImgIn shape=(?, 7, 7, 64)\n",
        "            W3 = tf.Variable(tf.random_normal([3, 3, 64, 128], stddev=0.01))\n",
        "            #    Conv      ->(?, 7, 7, 128)\n",
        "            #    Pool      ->(?, 4, 4, 128)\n",
        "            #    Reshape   ->(?, 4 * 4 * 128) # Flatten them for FC\n",
        "            L3 = tf.nn.conv2d(L2, W3, strides=[1, 1, 1, 1], padding='SAME')\n",
        "            L3 = tf.nn.relu(L3)\n",
        "            L3 = tf.nn.max_pool(L3, ksize=[1, 2, 2, 1], strides=[\n",
        "                                1, 2, 2, 1], padding='SAME')\n",
        "            L3 = tf.nn.dropout(L3, keep_prob=self.keep_prob)\n",
        "\n",
        "            L3_flat = tf.reshape(L3, [-1, 128 * 4 * 4])\n",
        "            '''\n",
        "            Tensor(\"Conv2D_2:0\", shape=(?, 7, 7, 128), dtype=float32)\n",
        "            Tensor(\"Relu_2:0\", shape=(?, 7, 7, 128), dtype=float32)\n",
        "            Tensor(\"MaxPool_2:0\", shape=(?, 4, 4, 128), dtype=float32)\n",
        "            Tensor(\"dropout_2/mul:0\", shape=(?, 4, 4, 128), dtype=float32)\n",
        "            Tensor(\"Reshape_1:0\", shape=(?, 2048), dtype=float32)\n",
        "            '''\n",
        "\n",
        "            # L4 FC 4x4x128 inputs -> 625 outputs\n",
        "            W4 = tf.get_variable(\"W4\", shape=[128 * 4 * 4, 625],\n",
        "                                 initializer=tf.contrib.layers.xavier_initializer())\n",
        "            b4 = tf.Variable(tf.random_normal([625]))\n",
        "            L4 = tf.nn.relu(tf.matmul(L3_flat, W4) + b4)\n",
        "            L4 = tf.nn.dropout(L4, keep_prob=self.keep_prob)\n",
        "            '''\n",
        "            Tensor(\"Relu_3:0\", shape=(?, 625), dtype=float32)\n",
        "            Tensor(\"dropout_3/mul:0\", shape=(?, 625), dtype=float32)\n",
        "            '''\n",
        "\n",
        "            # L5 Final FC 625 inputs -> 10 outputs\n",
        "            W5 = tf.get_variable(\"W5\", shape=[625, 10],\n",
        "                                 initializer=tf.contrib.layers.xavier_initializer())\n",
        "            b5 = tf.Variable(tf.random_normal([10]))\n",
        "            self.logits = tf.matmul(L4, W5) + b5\n",
        "            '''\n",
        "            Tensor(\"add_1:0\", shape=(?, 10), dtype=float32)\n",
        "            '''\n",
        "\n",
        "        # define cost/loss & optimizer\n",
        "        self.cost = tf.reduce_mean(tf.nn.softmax_cross_entropy_with_logits(\n",
        "            logits=self.logits, labels=self.Y))\n",
        "        self.optimizer = tf.train.AdamOptimizer(\n",
        "            learning_rate=learning_rate).minimize(self.cost)\n",
        "\n",
        "        correct_prediction = tf.equal(\n",
        "            tf.argmax(self.logits, 1), tf.argmax(self.Y, 1))\n",
        "        self.accuracy = tf.reduce_mean(tf.cast(correct_prediction, tf.float32))\n",
        "\n",
        "    def predict(self, x_test, keep_prop=1.0):\n",
        "        return self.sess.run(self.logits, feed_dict={self.X: x_test, self.keep_prob: keep_prop})\n",
        "\n",
        "    def get_accuracy(self, x_test, y_test, keep_prop=1.0):\n",
        "        return self.sess.run(self.accuracy, feed_dict={self.X: x_test, self.Y: y_test, self.keep_prob: keep_prop})\n",
        "\n",
        "    def train(self, x_data, y_data, keep_prop=0.7):\n",
        "        return self.sess.run([self.cost, self.optimizer], feed_dict={\n",
        "            self.X: x_data, self.Y: y_data, self.keep_prob: keep_prop})"
      ],
      "execution_count": 3,
      "outputs": []
    },
    {
      "cell_type": "code",
      "metadata": {
        "colab": {
          "base_uri": "https://localhost:8080/"
        },
        "id": "E66ayxMH2qNK",
        "outputId": "3e69889a-e02a-4f7d-dade-3cac9def71e4"
      },
      "source": [
        "# initialize\n",
        "sess = tf.Session()\n",
        "models =[]\n",
        "num_models = 7\n",
        "for m in range(num_models):\n",
        "    models.append(Model(sess,\"model\" + str(m)))\n",
        "\n",
        "sess.run(tf.global_variables_initializer())\n",
        "\n",
        "print('Learning Started!')\n",
        "\n",
        "# train my model\n",
        "for epoch in range(training_epochs):\n",
        "    avg_cost_list = np.zeros(len(models))\n",
        "    total_batch = int(mnist.train.num_examples / batch_size)\n",
        "\n",
        "    for i in range(total_batch):\n",
        "        batch_xs, batch_ys = mnist.train.next_batch(batch_size)\n",
        "        \n",
        "        for m_idx, m in enumerate(models):\n",
        "            c, _ = m.train(batch_xs, batch_ys)\n",
        "            avg_cost_list[m_idx] += c /total_batch\n",
        "\n",
        "    print('Epoch:', '%04d' % (epoch + 1), 'cost =',avg_cost_list)\n",
        "\n",
        "print('Learning Finished!')"
      ],
      "execution_count": 4,
      "outputs": [
        {
          "output_type": "stream",
          "text": [
            "WARNING:tensorflow:From <ipython-input-3-dec618978d11>:28: calling dropout (from tensorflow.python.ops.nn_ops) with keep_prob is deprecated and will be removed in a future version.\n",
            "Instructions for updating:\n",
            "Please use `rate` instead of `keep_prob`. Rate should be set to `rate = 1 - keep_prob`.\n",
            "WARNING:tensorflow:\n",
            "The TensorFlow contrib module will not be included in TensorFlow 2.0.\n",
            "For more information, please see:\n",
            "  * https://github.com/tensorflow/community/blob/master/rfcs/20180907-contrib-sunset.md\n",
            "  * https://github.com/tensorflow/addons\n",
            "  * https://github.com/tensorflow/io (for I/O related ops)\n",
            "If you depend on functionality not listed there, please file an issue.\n",
            "\n",
            "WARNING:tensorflow:From <ipython-input-3-dec618978d11>:94: softmax_cross_entropy_with_logits (from tensorflow.python.ops.nn_ops) is deprecated and will be removed in a future version.\n",
            "Instructions for updating:\n",
            "\n",
            "Future major versions of TensorFlow will allow gradients to flow\n",
            "into the labels input on backprop by default.\n",
            "\n",
            "See `tf.nn.softmax_cross_entropy_with_logits_v2`.\n",
            "\n",
            "Learning Started!\n",
            "Epoch: 0001 cost = [0.36529636 0.38028285 0.45385829 0.38027114 0.40241359 0.3543918\n",
            " 0.35748821]\n",
            "Epoch: 0002 cost = [0.10164088 0.09637058 0.10488007 0.10045611 0.10575012 0.09251177\n",
            " 0.09152132]\n",
            "Epoch: 0003 cost = [0.07331616 0.07228762 0.07519994 0.07356755 0.07601993 0.07178176\n",
            " 0.070207  ]\n",
            "Epoch: 0004 cost = [0.06093787 0.06325859 0.06631257 0.06088792 0.06142313 0.05810969\n",
            " 0.0565582 ]\n",
            "Epoch: 0005 cost = [0.05073758 0.05373739 0.05362274 0.0534814  0.05283344 0.0516169\n",
            " 0.05041467]\n",
            "Epoch: 0006 cost = [0.04617925 0.04867367 0.04847024 0.04536577 0.04957986 0.04666203\n",
            " 0.04429407]\n",
            "Epoch: 0007 cost = [0.04269646 0.04245308 0.0424591  0.04339171 0.04210466 0.04178853\n",
            " 0.04147112]\n",
            "Epoch: 0008 cost = [0.03915999 0.04046472 0.04023715 0.03826812 0.04245131 0.03791561\n",
            " 0.03735552]\n",
            "Epoch: 0009 cost = [0.03634413 0.03735998 0.03609278 0.03631283 0.03727646 0.03494987\n",
            " 0.0335645 ]\n",
            "Epoch: 0010 cost = [0.03506747 0.03434259 0.03507568 0.03216302 0.03455717 0.03519372\n",
            " 0.03321809]\n",
            "Epoch: 0011 cost = [0.02958589 0.03378473 0.03099805 0.03266572 0.03249083 0.03100771\n",
            " 0.0311683 ]\n",
            "Epoch: 0012 cost = [0.02990732 0.02903137 0.03132722 0.03028911 0.03092848 0.0304274\n",
            " 0.02936003]\n",
            "Epoch: 0013 cost = [0.0283219  0.02918616 0.0300914  0.02841115 0.03020887 0.02847565\n",
            " 0.02779636]\n",
            "Epoch: 0014 cost = [0.02746156 0.02787389 0.0279558  0.02679782 0.02709578 0.02777776\n",
            " 0.02607633]\n",
            "Epoch: 0015 cost = [0.02738584 0.02491501 0.02675397 0.02567233 0.02753161 0.02621874\n",
            " 0.02712064]\n",
            "Learning Finished!\n"
          ],
          "name": "stdout"
        }
      ]
    },
    {
      "cell_type": "code",
      "metadata": {
        "id": "D7RSfLxk36Uk"
      },
      "source": [
        ""
      ],
      "execution_count": null,
      "outputs": []
    }
  ]
}