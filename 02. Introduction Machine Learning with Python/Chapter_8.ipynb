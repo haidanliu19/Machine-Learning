{
  "nbformat": 4,
  "nbformat_minor": 0,
  "metadata": {
    "colab": {
      "name": "Chapter_8.ipynb",
      "provenance": [],
      "collapsed_sections": []
    },
    "kernelspec": {
      "name": "python3",
      "display_name": "Python 3"
    },
    "language_info": {
      "name": "python"
    }
  },
  "cells": [
    {
      "cell_type": "code",
      "metadata": {
        "id": "7nIZOfIfcvZg"
      },
      "source": [
        "from sklearn.base import BaseEstimator, TransformerMixin\n",
        "\n",
        "class MyTransformer(BaseEstimator, TransformerMixin):\n",
        "    def __init__(self, first_paramter=1, second_parameter=2):\n",
        "        # all parameters must be specified in the __init__ function\n",
        "        self.first_paramter = 1\n",
        "        self.second_parameter = 2\n",
        "        \n",
        "    def fit(self, X, y=None):\n",
        "        # fit should only take X and y as parameters\n",
        "        # even if your model is unsupervised, you need to accept a y argument!\n",
        "        \n",
        "        # Model fitting code goes here\n",
        "        print(\"fitting the model right here\")\n",
        "        # fit returns self\n",
        "        return self\n",
        "    \n",
        "    def transform(self, X):\n",
        "        # transform takes as parameter only X\n",
        "        \n",
        "        # apply some transformation to X:\n",
        "        X_transformed = X + 1\n",
        "        return X_transformed"
      ],
      "execution_count": 2,
      "outputs": []
    },
    {
      "cell_type": "code",
      "metadata": {
        "id": "MKQg5sa9cy2A"
      },
      "source": [
        ""
      ],
      "execution_count": null,
      "outputs": []
    }
  ]
}