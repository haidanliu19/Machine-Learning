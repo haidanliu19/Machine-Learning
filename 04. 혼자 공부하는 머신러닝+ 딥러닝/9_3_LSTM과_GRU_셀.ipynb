{
  "nbformat": 4,
  "nbformat_minor": 0,
  "metadata": {
    "colab": {
      "name": "9.3 LSTM과 GRU 셀.ipynb",
      "provenance": [],
      "collapsed_sections": []
    },
    "kernelspec": {
      "name": "python3",
      "display_name": "Python 3"
    },
    "language_info": {
      "name": "python"
    }
  },
  "cells": [
    {
      "cell_type": "code",
      "metadata": {
        "colab": {
          "base_uri": "https://localhost:8080/"
        },
        "id": "4WQxYvKIFyN9",
        "outputId": "2c7cc4bc-b02c-44e7-94af-d3c5fd045e49"
      },
      "source": [
        "from tensorflow.keras.datasets import imdb\n",
        "from sklearn.model_selection import train_test_split\n",
        "\n",
        "(train_input, train_target), (test_input, test_target) = imdb.load_data(\n",
        "    num_words=500)\n",
        "\n",
        "train_input, val_input, train_target, val_target = train_test_split(\n",
        "    train_input, train_target, test_size=0.2, random_state=42)"
      ],
      "execution_count": 1,
      "outputs": [
        {
          "output_type": "stream",
          "text": [
            "Downloading data from https://storage.googleapis.com/tensorflow/tf-keras-datasets/imdb.npz\n",
            "17465344/17464789 [==============================] - 0s 0us/step\n"
          ],
          "name": "stdout"
        },
        {
          "output_type": "stream",
          "text": [
            "<string>:6: VisibleDeprecationWarning: Creating an ndarray from ragged nested sequences (which is a list-or-tuple of lists-or-tuples-or ndarrays with different lengths or shapes) is deprecated. If you meant to do this, you must specify 'dtype=object' when creating the ndarray\n",
            "/usr/local/lib/python3.7/dist-packages/tensorflow/python/keras/datasets/imdb.py:155: VisibleDeprecationWarning: Creating an ndarray from ragged nested sequences (which is a list-or-tuple of lists-or-tuples-or ndarrays with different lengths or shapes) is deprecated. If you meant to do this, you must specify 'dtype=object' when creating the ndarray\n",
            "  x_train, y_train = np.array(xs[:idx]), np.array(labels[:idx])\n",
            "/usr/local/lib/python3.7/dist-packages/tensorflow/python/keras/datasets/imdb.py:156: VisibleDeprecationWarning: Creating an ndarray from ragged nested sequences (which is a list-or-tuple of lists-or-tuples-or ndarrays with different lengths or shapes) is deprecated. If you meant to do this, you must specify 'dtype=object' when creating the ndarray\n",
            "  x_test, y_test = np.array(xs[idx:]), np.array(labels[idx:])\n"
          ],
          "name": "stderr"
        }
      ]
    },
    {
      "cell_type": "code",
      "metadata": {
        "id": "3dP4mPbbHWCa"
      },
      "source": [
        "from tensorflow.keras.preprocessing.sequence import pad_sequences\n",
        "\n",
        "train_seq = pad_sequences(train_input, maxlen=100)\n",
        "val_seq = pad_sequences(val_input, maxlen=100)"
      ],
      "execution_count": 2,
      "outputs": []
    },
    {
      "cell_type": "code",
      "metadata": {
        "colab": {
          "base_uri": "https://localhost:8080/"
        },
        "id": "Apssx7PZHWIt",
        "outputId": "58944996-970d-4bb8-e0ba-3ff51b82748c"
      },
      "source": [
        "\n",
        "from tensorflow import keras\n",
        "\n",
        "model = keras.Sequential()\n",
        "\n",
        "model.add(keras.layers.Embedding(500, 16, input_length=100))\n",
        "model.add(keras.layers.LSTM(8))\n",
        "model.add(keras.layers.Dense(1, activation='sigmoid'))\n",
        "\n",
        "model.summary()"
      ],
      "execution_count": 3,
      "outputs": [
        {
          "output_type": "stream",
          "text": [
            "Model: \"sequential\"\n",
            "_________________________________________________________________\n",
            "Layer (type)                 Output Shape              Param #   \n",
            "=================================================================\n",
            "embedding (Embedding)        (None, 100, 16)           8000      \n",
            "_________________________________________________________________\n",
            "lstm (LSTM)                  (None, 8)                 800       \n",
            "_________________________________________________________________\n",
            "dense (Dense)                (None, 1)                 9         \n",
            "=================================================================\n",
            "Total params: 8,809\n",
            "Trainable params: 8,809\n",
            "Non-trainable params: 0\n",
            "_________________________________________________________________\n"
          ],
          "name": "stdout"
        }
      ]
    },
    {
      "cell_type": "code",
      "metadata": {
        "colab": {
          "base_uri": "https://localhost:8080/"
        },
        "id": "FyfHw3kwHWLl",
        "outputId": "079b67c6-a95b-4d00-a3be-ec2b99cbb400"
      },
      "source": [
        "rmsprop = keras.optimizers.RMSprop(learning_rate=1e-4)\n",
        "model.compile(optimizer=rmsprop, loss='binary_crossentropy', \n",
        "              metrics=['accuracy'])\n",
        "\n",
        "checkpoint_cb = keras.callbacks.ModelCheckpoint('best-lstm-model.h5', \n",
        "                                                save_best_only=True)\n",
        "early_stopping_cb = keras.callbacks.EarlyStopping(patience=3,\n",
        "                                                  restore_best_weights=True)\n",
        "\n",
        "history = model.fit(train_seq, train_target, epochs=100, batch_size=64,\n",
        "                    validation_data=(val_seq, val_target),\n",
        "                    callbacks=[checkpoint_cb, early_stopping_cb])"
      ],
      "execution_count": 4,
      "outputs": [
        {
          "output_type": "stream",
          "text": [
            "Epoch 1/100\n",
            "313/313 [==============================] - 12s 33ms/step - loss: 0.6927 - accuracy: 0.5211 - val_loss: 0.6922 - val_accuracy: 0.5262\n",
            "Epoch 2/100\n",
            "313/313 [==============================] - 10s 32ms/step - loss: 0.6905 - accuracy: 0.5826 - val_loss: 0.6887 - val_accuracy: 0.6388\n",
            "Epoch 3/100\n",
            "313/313 [==============================] - 10s 32ms/step - loss: 0.6839 - accuracy: 0.6556 - val_loss: 0.6771 - val_accuracy: 0.6762\n",
            "Epoch 4/100\n",
            "313/313 [==============================] - 10s 32ms/step - loss: 0.6528 - accuracy: 0.6809 - val_loss: 0.6162 - val_accuracy: 0.7180\n",
            "Epoch 5/100\n",
            "313/313 [==============================] - 10s 32ms/step - loss: 0.5813 - accuracy: 0.7293 - val_loss: 0.5602 - val_accuracy: 0.7352\n",
            "Epoch 6/100\n",
            "313/313 [==============================] - 10s 32ms/step - loss: 0.5415 - accuracy: 0.7458 - val_loss: 0.5318 - val_accuracy: 0.7552\n",
            "Epoch 7/100\n",
            "313/313 [==============================] - 10s 32ms/step - loss: 0.5147 - accuracy: 0.7641 - val_loss: 0.5113 - val_accuracy: 0.7702\n",
            "Epoch 8/100\n",
            "313/313 [==============================] - 10s 32ms/step - loss: 0.4946 - accuracy: 0.7767 - val_loss: 0.4960 - val_accuracy: 0.7752\n",
            "Epoch 9/100\n",
            "313/313 [==============================] - 10s 32ms/step - loss: 0.4792 - accuracy: 0.7879 - val_loss: 0.4893 - val_accuracy: 0.7764\n",
            "Epoch 10/100\n",
            "313/313 [==============================] - 10s 31ms/step - loss: 0.4689 - accuracy: 0.7931 - val_loss: 0.4811 - val_accuracy: 0.7788\n",
            "Epoch 11/100\n",
            "313/313 [==============================] - 10s 32ms/step - loss: 0.4600 - accuracy: 0.7987 - val_loss: 0.4716 - val_accuracy: 0.7860\n",
            "Epoch 12/100\n",
            "313/313 [==============================] - 10s 31ms/step - loss: 0.4528 - accuracy: 0.7999 - val_loss: 0.4654 - val_accuracy: 0.7878\n",
            "Epoch 13/100\n",
            "313/313 [==============================] - 10s 31ms/step - loss: 0.4477 - accuracy: 0.8026 - val_loss: 0.4637 - val_accuracy: 0.7902\n",
            "Epoch 14/100\n",
            "313/313 [==============================] - 10s 32ms/step - loss: 0.4428 - accuracy: 0.8048 - val_loss: 0.4600 - val_accuracy: 0.7880\n",
            "Epoch 15/100\n",
            "313/313 [==============================] - 10s 32ms/step - loss: 0.4390 - accuracy: 0.8057 - val_loss: 0.4592 - val_accuracy: 0.7918\n",
            "Epoch 16/100\n",
            "313/313 [==============================] - 10s 32ms/step - loss: 0.4354 - accuracy: 0.8069 - val_loss: 0.4530 - val_accuracy: 0.7922\n",
            "Epoch 17/100\n",
            "313/313 [==============================] - 10s 32ms/step - loss: 0.4324 - accuracy: 0.8092 - val_loss: 0.4505 - val_accuracy: 0.7956\n",
            "Epoch 18/100\n",
            "313/313 [==============================] - 10s 32ms/step - loss: 0.4294 - accuracy: 0.8080 - val_loss: 0.4504 - val_accuracy: 0.7934\n",
            "Epoch 19/100\n",
            "313/313 [==============================] - 10s 33ms/step - loss: 0.4270 - accuracy: 0.8097 - val_loss: 0.4458 - val_accuracy: 0.7970\n",
            "Epoch 20/100\n",
            "313/313 [==============================] - 10s 32ms/step - loss: 0.4243 - accuracy: 0.8120 - val_loss: 0.4444 - val_accuracy: 0.7958\n",
            "Epoch 21/100\n",
            "313/313 [==============================] - 10s 32ms/step - loss: 0.4225 - accuracy: 0.8117 - val_loss: 0.4432 - val_accuracy: 0.7976\n",
            "Epoch 22/100\n",
            "313/313 [==============================] - 10s 32ms/step - loss: 0.4207 - accuracy: 0.8127 - val_loss: 0.4415 - val_accuracy: 0.7962\n",
            "Epoch 23/100\n",
            "313/313 [==============================] - 10s 32ms/step - loss: 0.4193 - accuracy: 0.8131 - val_loss: 0.4401 - val_accuracy: 0.7964\n",
            "Epoch 24/100\n",
            "313/313 [==============================] - 10s 32ms/step - loss: 0.4177 - accuracy: 0.8142 - val_loss: 0.4398 - val_accuracy: 0.7988\n",
            "Epoch 25/100\n",
            "313/313 [==============================] - 10s 32ms/step - loss: 0.4162 - accuracy: 0.8131 - val_loss: 0.4381 - val_accuracy: 0.7974\n",
            "Epoch 26/100\n",
            "313/313 [==============================] - 10s 33ms/step - loss: 0.4149 - accuracy: 0.8148 - val_loss: 0.4372 - val_accuracy: 0.8006\n",
            "Epoch 27/100\n",
            "313/313 [==============================] - 10s 32ms/step - loss: 0.4136 - accuracy: 0.8152 - val_loss: 0.4393 - val_accuracy: 0.8016\n",
            "Epoch 28/100\n",
            "313/313 [==============================] - 10s 32ms/step - loss: 0.4127 - accuracy: 0.8144 - val_loss: 0.4354 - val_accuracy: 0.8024\n",
            "Epoch 29/100\n",
            "313/313 [==============================] - 10s 33ms/step - loss: 0.4114 - accuracy: 0.8150 - val_loss: 0.4362 - val_accuracy: 0.8022\n",
            "Epoch 30/100\n",
            "313/313 [==============================] - 10s 32ms/step - loss: 0.4101 - accuracy: 0.8157 - val_loss: 0.4363 - val_accuracy: 0.8016\n",
            "Epoch 31/100\n",
            "313/313 [==============================] - 10s 32ms/step - loss: 0.4097 - accuracy: 0.8146 - val_loss: 0.4395 - val_accuracy: 0.8006\n"
          ],
          "name": "stdout"
        }
      ]
    },
    {
      "cell_type": "code",
      "metadata": {
        "colab": {
          "base_uri": "https://localhost:8080/",
          "height": 279
        },
        "id": "FE1i4FUkHa-B",
        "outputId": "2e56996b-06fa-4339-82cc-1e9aa894b0fe"
      },
      "source": [
        "\n",
        "import matplotlib.pyplot as plt\n",
        "\n",
        "plt.plot(history.history['loss'])\n",
        "plt.plot(history.history['val_loss'])\n",
        "plt.xlabel('epoch')\n",
        "plt.ylabel('loss')\n",
        "plt.legend(['train', 'val'])\n",
        "plt.show()"
      ],
      "execution_count": 5,
      "outputs": [
        {
          "output_type": "display_data",
          "data": {
            "image/png": "[encoded data removed]",
            "text/plain": [
              "<Figure size 432x288 with 1 Axes>"
            ]
          },
          "metadata": {
            "tags": [],
            "needs_background": "light"
          }
        }
      ]
    },
    {
      "cell_type": "markdown",
      "metadata": {
        "id": "LZDuZPDaHrqa"
      },
      "source": [
        "# 순환 층에 드롭아웃 적용하기"
      ]
    },
    {
      "cell_type": "code",
      "metadata": {
        "colab": {
          "base_uri": "https://localhost:8080/"
        },
        "id": "t-sS4qP_HbBJ",
        "outputId": "35d904d8-770b-493b-cd26-15f33c871580"
      },
      "source": [
        "model2 = keras.Sequential()\n",
        "\n",
        "model2.add(keras.layers.Embedding(500, 16, input_length=100))\n",
        "model2.add(keras.layers.LSTM(8, dropout =0.3))\n",
        "model2.add(keras.layers.Dense(1, activation='sigmoid'))\n",
        "\n",
        "model2.summary()"
      ],
      "execution_count": 6,
      "outputs": [
        {
          "output_type": "stream",
          "text": [
            "Model: \"sequential_1\"\n",
            "_________________________________________________________________\n",
            "Layer (type)                 Output Shape              Param #   \n",
            "=================================================================\n",
            "embedding_1 (Embedding)      (None, 100, 16)           8000      \n",
            "_________________________________________________________________\n",
            "lstm_1 (LSTM)                (None, 8)                 800       \n",
            "_________________________________________________________________\n",
            "dense_1 (Dense)              (None, 1)                 9         \n",
            "=================================================================\n",
            "Total params: 8,809\n",
            "Trainable params: 8,809\n",
            "Non-trainable params: 0\n",
            "_________________________________________________________________\n"
          ],
          "name": "stdout"
        }
      ]
    },
    {
      "cell_type": "code",
      "metadata": {
        "colab": {
          "base_uri": "https://localhost:8080/"
        },
        "id": "3odQfpFzHzf3",
        "outputId": "9bb066f3-7a3c-4a4a-d1ea-7b0c03ee42dd"
      },
      "source": [
        "\n",
        "rmsprop = keras.optimizers.RMSprop(learning_rate=1e-4)\n",
        "model2.compile(optimizer=rmsprop, loss='binary_crossentropy', \n",
        "               metrics=['accuracy'])\n",
        "\n",
        "checkpoint_cb = keras.callbacks.ModelCheckpoint('best-dropout-model.h5', \n",
        "                                                save_best_only=True)\n",
        "early_stopping_cb = keras.callbacks.EarlyStopping(patience=3,\n",
        "                                                  restore_best_weights=True)\n",
        "\n",
        "history = model2.fit(train_seq, train_target, epochs=100, batch_size=64,\n",
        "                     validation_data=(val_seq, val_target),\n",
        "                     callbacks=[checkpoint_cb, early_stopping_cb])"
      ],
      "execution_count": 7,
      "outputs": [
        {
          "output_type": "stream",
          "text": [
            "Epoch 1/100\n",
            "313/313 [==============================] - 13s 35ms/step - loss: 0.6927 - accuracy: 0.5207 - val_loss: 0.6921 - val_accuracy: 0.5568\n",
            "Epoch 2/100\n",
            "313/313 [==============================] - 11s 34ms/step - loss: 0.6910 - accuracy: 0.5807 - val_loss: 0.6900 - val_accuracy: 0.5970\n",
            "Epoch 3/100\n",
            "313/313 [==============================] - 10s 33ms/step - loss: 0.6879 - accuracy: 0.6220 - val_loss: 0.6859 - val_accuracy: 0.6280\n",
            "Epoch 4/100\n",
            "313/313 [==============================] - 10s 33ms/step - loss: 0.6808 - accuracy: 0.6464 - val_loss: 0.6762 - val_accuracy: 0.6462\n",
            "Epoch 5/100\n",
            "313/313 [==============================] - 10s 33ms/step - loss: 0.6582 - accuracy: 0.6574 - val_loss: 0.6370 - val_accuracy: 0.6564\n",
            "Epoch 6/100\n",
            "313/313 [==============================] - 11s 34ms/step - loss: 0.6059 - accuracy: 0.7141 - val_loss: 0.5921 - val_accuracy: 0.7302\n",
            "Epoch 7/100\n",
            "313/313 [==============================] - 11s 34ms/step - loss: 0.5762 - accuracy: 0.7353 - val_loss: 0.5670 - val_accuracy: 0.7436\n",
            "Epoch 8/100\n",
            "313/313 [==============================] - 11s 34ms/step - loss: 0.5537 - accuracy: 0.7462 - val_loss: 0.5446 - val_accuracy: 0.7490\n",
            "Epoch 9/100\n",
            "313/313 [==============================] - 11s 34ms/step - loss: 0.5330 - accuracy: 0.7587 - val_loss: 0.5249 - val_accuracy: 0.7616\n",
            "Epoch 10/100\n",
            "313/313 [==============================] - 11s 34ms/step - loss: 0.5145 - accuracy: 0.7685 - val_loss: 0.5082 - val_accuracy: 0.7664\n",
            "Epoch 11/100\n",
            "313/313 [==============================] - 10s 33ms/step - loss: 0.4985 - accuracy: 0.7746 - val_loss: 0.4931 - val_accuracy: 0.7752\n",
            "Epoch 12/100\n",
            "313/313 [==============================] - 11s 34ms/step - loss: 0.4884 - accuracy: 0.7788 - val_loss: 0.4820 - val_accuracy: 0.7816\n",
            "Epoch 13/100\n",
            "313/313 [==============================] - 11s 34ms/step - loss: 0.4759 - accuracy: 0.7812 - val_loss: 0.4725 - val_accuracy: 0.7836\n",
            "Epoch 14/100\n",
            "313/313 [==============================] - 11s 34ms/step - loss: 0.4685 - accuracy: 0.7850 - val_loss: 0.4650 - val_accuracy: 0.7892\n",
            "Epoch 15/100\n",
            "313/313 [==============================] - 10s 33ms/step - loss: 0.4580 - accuracy: 0.7944 - val_loss: 0.4621 - val_accuracy: 0.7908\n",
            "Epoch 16/100\n",
            "313/313 [==============================] - 11s 34ms/step - loss: 0.4537 - accuracy: 0.7967 - val_loss: 0.4615 - val_accuracy: 0.7878\n",
            "Epoch 17/100\n",
            "313/313 [==============================] - 11s 34ms/step - loss: 0.4488 - accuracy: 0.7979 - val_loss: 0.4516 - val_accuracy: 0.7956\n",
            "Epoch 18/100\n",
            "313/313 [==============================] - 11s 34ms/step - loss: 0.4448 - accuracy: 0.8004 - val_loss: 0.4482 - val_accuracy: 0.7960\n",
            "Epoch 19/100\n",
            "313/313 [==============================] - 10s 34ms/step - loss: 0.4401 - accuracy: 0.8036 - val_loss: 0.4465 - val_accuracy: 0.7976\n",
            "Epoch 20/100\n",
            "313/313 [==============================] - 11s 34ms/step - loss: 0.4408 - accuracy: 0.7996 - val_loss: 0.4437 - val_accuracy: 0.7976\n",
            "Epoch 21/100\n",
            "313/313 [==============================] - 11s 34ms/step - loss: 0.4356 - accuracy: 0.8037 - val_loss: 0.4418 - val_accuracy: 0.7978\n",
            "Epoch 22/100\n",
            "313/313 [==============================] - 11s 34ms/step - loss: 0.4332 - accuracy: 0.8059 - val_loss: 0.4407 - val_accuracy: 0.7984\n",
            "Epoch 23/100\n",
            "313/313 [==============================] - 11s 35ms/step - loss: 0.4322 - accuracy: 0.8049 - val_loss: 0.4389 - val_accuracy: 0.7994\n",
            "Epoch 24/100\n",
            "313/313 [==============================] - 11s 34ms/step - loss: 0.4311 - accuracy: 0.8048 - val_loss: 0.4379 - val_accuracy: 0.7998\n",
            "Epoch 25/100\n",
            "313/313 [==============================] - 11s 34ms/step - loss: 0.4268 - accuracy: 0.8087 - val_loss: 0.4367 - val_accuracy: 0.8010\n",
            "Epoch 26/100\n",
            "313/313 [==============================] - 11s 34ms/step - loss: 0.4268 - accuracy: 0.8062 - val_loss: 0.4360 - val_accuracy: 0.8010\n",
            "Epoch 27/100\n",
            "313/313 [==============================] - 10s 33ms/step - loss: 0.4245 - accuracy: 0.8078 - val_loss: 0.4350 - val_accuracy: 0.8030\n",
            "Epoch 28/100\n",
            "313/313 [==============================] - 10s 33ms/step - loss: 0.4250 - accuracy: 0.8065 - val_loss: 0.4350 - val_accuracy: 0.8026\n",
            "Epoch 29/100\n",
            "313/313 [==============================] - 10s 33ms/step - loss: 0.4214 - accuracy: 0.8094 - val_loss: 0.4390 - val_accuracy: 0.8028\n",
            "Epoch 30/100\n",
            "313/313 [==============================] - 10s 33ms/step - loss: 0.4222 - accuracy: 0.8082 - val_loss: 0.4336 - val_accuracy: 0.8038\n",
            "Epoch 31/100\n",
            "313/313 [==============================] - 11s 34ms/step - loss: 0.4222 - accuracy: 0.8084 - val_loss: 0.4387 - val_accuracy: 0.8026\n",
            "Epoch 32/100\n",
            "313/313 [==============================] - 10s 33ms/step - loss: 0.4201 - accuracy: 0.8094 - val_loss: 0.4325 - val_accuracy: 0.8028\n",
            "Epoch 33/100\n",
            "313/313 [==============================] - 10s 34ms/step - loss: 0.4201 - accuracy: 0.8087 - val_loss: 0.4321 - val_accuracy: 0.8036\n",
            "Epoch 34/100\n",
            "313/313 [==============================] - 10s 33ms/step - loss: 0.4186 - accuracy: 0.8099 - val_loss: 0.4365 - val_accuracy: 0.7984\n",
            "Epoch 35/100\n",
            "313/313 [==============================] - 11s 34ms/step - loss: 0.4199 - accuracy: 0.8078 - val_loss: 0.4315 - val_accuracy: 0.8032\n",
            "Epoch 36/100\n",
            "313/313 [==============================] - 10s 33ms/step - loss: 0.4182 - accuracy: 0.8096 - val_loss: 0.4353 - val_accuracy: 0.8014\n",
            "Epoch 37/100\n",
            "313/313 [==============================] - 10s 33ms/step - loss: 0.4163 - accuracy: 0.8123 - val_loss: 0.4313 - val_accuracy: 0.8032\n",
            "Epoch 38/100\n",
            "313/313 [==============================] - 10s 33ms/step - loss: 0.4172 - accuracy: 0.8088 - val_loss: 0.4304 - val_accuracy: 0.8044\n",
            "Epoch 39/100\n",
            "313/313 [==============================] - 11s 34ms/step - loss: 0.4131 - accuracy: 0.8133 - val_loss: 0.4319 - val_accuracy: 0.8008\n",
            "Epoch 40/100\n",
            "313/313 [==============================] - 11s 34ms/step - loss: 0.4137 - accuracy: 0.8131 - val_loss: 0.4312 - val_accuracy: 0.8042\n",
            "Epoch 41/100\n",
            "313/313 [==============================] - 11s 34ms/step - loss: 0.4160 - accuracy: 0.8098 - val_loss: 0.4311 - val_accuracy: 0.8050\n"
          ],
          "name": "stdout"
        }
      ]
    },
    {
      "cell_type": "code",
      "metadata": {
        "colab": {
          "base_uri": "https://localhost:8080/",
          "height": 279
        },
        "id": "V0dkk8g0H6_G",
        "outputId": "1c4eba3d-7955-40f9-d409-28244e1ea96a"
      },
      "source": [
        "plt.plot(history.history['loss'])\n",
        "plt.plot(history.history['val_loss'])\n",
        "plt.xlabel('epoch')\n",
        "plt.ylabel('loss')\n",
        "plt.legend(['train', 'val'])\n",
        "plt.show()"
      ],
      "execution_count": 8,
      "outputs": [
        {
          "output_type": "display_data",
          "data": {
            "image/png": "[encoded data removed]",
            "text/plain": [
              "<Figure size 432x288 with 1 Axes>"
            ]
          },
          "metadata": {
            "tags": [],
            "needs_background": "light"
          }
        }
      ]
    },
    {
      "cell_type": "markdown",
      "metadata": {
        "id": "_YVizmszIGWG"
      },
      "source": [
        "# 2개의 층을 연결하기"
      ]
    },
    {
      "cell_type": "code",
      "metadata": {
        "colab": {
          "base_uri": "https://localhost:8080/"
        },
        "id": "NUv7GoIPIIhp",
        "outputId": "054e1dba-41da-4cb4-c62c-a10fdd8fbb9e"
      },
      "source": [
        "model3 = keras.Sequential()\n",
        "\n",
        "model3.add(keras.layers.Embedding(500, 16, input_length=100))\n",
        "model3.add(keras.layers.LSTM(8, dropout =0.3 , return_sequences = True))\n",
        "model3.add(keras.layers.LSTM(8, dropout =0.3))\n",
        "model3.add(keras.layers.Dense(1, activation='sigmoid'))\n",
        "\n",
        "model3.summary()"
      ],
      "execution_count": 9,
      "outputs": [
        {
          "output_type": "stream",
          "text": [
            "Model: \"sequential_2\"\n",
            "_________________________________________________________________\n",
            "Layer (type)                 Output Shape              Param #   \n",
            "=================================================================\n",
            "embedding_2 (Embedding)      (None, 100, 16)           8000      \n",
            "_________________________________________________________________\n",
            "lstm_2 (LSTM)                (None, 100, 8)            800       \n",
            "_________________________________________________________________\n",
            "lstm_3 (LSTM)                (None, 8)                 544       \n",
            "_________________________________________________________________\n",
            "dense_2 (Dense)              (None, 1)                 9         \n",
            "=================================================================\n",
            "Total params: 9,353\n",
            "Trainable params: 9,353\n",
            "Non-trainable params: 0\n",
            "_________________________________________________________________\n"
          ],
          "name": "stdout"
        }
      ]
    },
    {
      "cell_type": "code",
      "metadata": {
        "colab": {
          "base_uri": "https://localhost:8080/"
        },
        "id": "dZiqDtXpH9x2",
        "outputId": "231ec82b-916e-4d9a-dab2-9774257e001f"
      },
      "source": [
        "rmsprop = keras.optimizers.RMSprop(learning_rate=1e-4)\n",
        "model3.compile(optimizer=rmsprop, loss='binary_crossentropy', \n",
        "               metrics=['accuracy'])\n",
        "\n",
        "checkpoint_cb = keras.callbacks.ModelCheckpoint('best-2rnn-model.h5', \n",
        "                                                save_best_only=True)\n",
        "early_stopping_cb = keras.callbacks.EarlyStopping(patience=3,\n",
        "                                                  restore_best_weights=True)\n",
        "\n",
        "history = model3.fit(train_seq, train_target, epochs=100, batch_size=64,\n",
        "                     validation_data=(val_seq, val_target),\n",
        "                     callbacks=[checkpoint_cb, early_stopping_cb])"
      ],
      "execution_count": 10,
      "outputs": [
        {
          "output_type": "stream",
          "text": [
            "Epoch 1/100\n",
            "313/313 [==============================] - 24s 67ms/step - loss: 0.6927 - accuracy: 0.5282 - val_loss: 0.6923 - val_accuracy: 0.5554\n",
            "Epoch 2/100\n",
            "313/313 [==============================] - 20s 63ms/step - loss: 0.6890 - accuracy: 0.5770 - val_loss: 0.6812 - val_accuracy: 0.5786\n",
            "Epoch 3/100\n",
            "313/313 [==============================] - 20s 63ms/step - loss: 0.6480 - accuracy: 0.6697 - val_loss: 0.6219 - val_accuracy: 0.6998\n",
            "Epoch 4/100\n",
            "313/313 [==============================] - 20s 64ms/step - loss: 0.6031 - accuracy: 0.7071 - val_loss: 0.5836 - val_accuracy: 0.7258\n",
            "Epoch 5/100\n",
            "313/313 [==============================] - 20s 64ms/step - loss: 0.5721 - accuracy: 0.7293 - val_loss: 0.5540 - val_accuracy: 0.7450\n",
            "Epoch 6/100\n",
            "313/313 [==============================] - 20s 64ms/step - loss: 0.5459 - accuracy: 0.7440 - val_loss: 0.5307 - val_accuracy: 0.7518\n",
            "Epoch 7/100\n",
            "313/313 [==============================] - 20s 64ms/step - loss: 0.5229 - accuracy: 0.7579 - val_loss: 0.5057 - val_accuracy: 0.7702\n",
            "Epoch 8/100\n",
            "313/313 [==============================] - 20s 64ms/step - loss: 0.5045 - accuracy: 0.7667 - val_loss: 0.4970 - val_accuracy: 0.7720\n",
            "Epoch 9/100\n",
            "313/313 [==============================] - 20s 64ms/step - loss: 0.4910 - accuracy: 0.7727 - val_loss: 0.4848 - val_accuracy: 0.7814\n",
            "Epoch 10/100\n",
            "313/313 [==============================] - 20s 64ms/step - loss: 0.4802 - accuracy: 0.7792 - val_loss: 0.4800 - val_accuracy: 0.7752\n",
            "Epoch 11/100\n",
            "313/313 [==============================] - 20s 64ms/step - loss: 0.4732 - accuracy: 0.7843 - val_loss: 0.4675 - val_accuracy: 0.7856\n",
            "Epoch 12/100\n",
            "313/313 [==============================] - 20s 65ms/step - loss: 0.4663 - accuracy: 0.7860 - val_loss: 0.4631 - val_accuracy: 0.7876\n",
            "Epoch 13/100\n",
            "313/313 [==============================] - 20s 65ms/step - loss: 0.4623 - accuracy: 0.7871 - val_loss: 0.4591 - val_accuracy: 0.7858\n",
            "Epoch 14/100\n",
            "313/313 [==============================] - 20s 64ms/step - loss: 0.4570 - accuracy: 0.7918 - val_loss: 0.4573 - val_accuracy: 0.7908\n",
            "Epoch 15/100\n",
            "313/313 [==============================] - 20s 63ms/step - loss: 0.4561 - accuracy: 0.7900 - val_loss: 0.4563 - val_accuracy: 0.7876\n",
            "Epoch 16/100\n",
            "313/313 [==============================] - 20s 63ms/step - loss: 0.4521 - accuracy: 0.7920 - val_loss: 0.4516 - val_accuracy: 0.7900\n",
            "Epoch 17/100\n",
            "313/313 [==============================] - 20s 63ms/step - loss: 0.4500 - accuracy: 0.7936 - val_loss: 0.4501 - val_accuracy: 0.7904\n",
            "Epoch 18/100\n",
            "313/313 [==============================] - 20s 63ms/step - loss: 0.4449 - accuracy: 0.7987 - val_loss: 0.4486 - val_accuracy: 0.7884\n",
            "Epoch 19/100\n",
            "313/313 [==============================] - 20s 64ms/step - loss: 0.4433 - accuracy: 0.7963 - val_loss: 0.4480 - val_accuracy: 0.7930\n",
            "Epoch 20/100\n",
            "313/313 [==============================] - 20s 64ms/step - loss: 0.4449 - accuracy: 0.7969 - val_loss: 0.4458 - val_accuracy: 0.7942\n",
            "Epoch 21/100\n",
            "313/313 [==============================] - 20s 64ms/step - loss: 0.4415 - accuracy: 0.7983 - val_loss: 0.4450 - val_accuracy: 0.7942\n",
            "Epoch 22/100\n",
            "313/313 [==============================] - 20s 63ms/step - loss: 0.4394 - accuracy: 0.7984 - val_loss: 0.4459 - val_accuracy: 0.7868\n",
            "Epoch 23/100\n",
            "313/313 [==============================] - 20s 63ms/step - loss: 0.4391 - accuracy: 0.7998 - val_loss: 0.4433 - val_accuracy: 0.7936\n",
            "Epoch 24/100\n",
            "313/313 [==============================] - 20s 64ms/step - loss: 0.4381 - accuracy: 0.8001 - val_loss: 0.4495 - val_accuracy: 0.7900\n",
            "Epoch 25/100\n",
            "313/313 [==============================] - 20s 64ms/step - loss: 0.4368 - accuracy: 0.8000 - val_loss: 0.4415 - val_accuracy: 0.7922\n",
            "Epoch 26/100\n",
            "313/313 [==============================] - 20s 64ms/step - loss: 0.4352 - accuracy: 0.8023 - val_loss: 0.4430 - val_accuracy: 0.7928\n",
            "Epoch 27/100\n",
            "313/313 [==============================] - 20s 63ms/step - loss: 0.4332 - accuracy: 0.8005 - val_loss: 0.4403 - val_accuracy: 0.7942\n",
            "Epoch 28/100\n",
            "313/313 [==============================] - 20s 63ms/step - loss: 0.4325 - accuracy: 0.8047 - val_loss: 0.4395 - val_accuracy: 0.7968\n",
            "Epoch 29/100\n",
            "313/313 [==============================] - 20s 63ms/step - loss: 0.4331 - accuracy: 0.8006 - val_loss: 0.4388 - val_accuracy: 0.7942\n",
            "Epoch 30/100\n",
            "313/313 [==============================] - 20s 64ms/step - loss: 0.4295 - accuracy: 0.8040 - val_loss: 0.4395 - val_accuracy: 0.7966\n",
            "Epoch 31/100\n",
            "313/313 [==============================] - 20s 64ms/step - loss: 0.4303 - accuracy: 0.8052 - val_loss: 0.4393 - val_accuracy: 0.7984\n",
            "Epoch 32/100\n",
            "313/313 [==============================] - 20s 63ms/step - loss: 0.4304 - accuracy: 0.8027 - val_loss: 0.4373 - val_accuracy: 0.7960\n",
            "Epoch 33/100\n",
            "313/313 [==============================] - 20s 63ms/step - loss: 0.4290 - accuracy: 0.8039 - val_loss: 0.4375 - val_accuracy: 0.7948\n",
            "Epoch 34/100\n",
            "313/313 [==============================] - 20s 63ms/step - loss: 0.4280 - accuracy: 0.8074 - val_loss: 0.4369 - val_accuracy: 0.7970\n",
            "Epoch 35/100\n",
            "313/313 [==============================] - 20s 63ms/step - loss: 0.4273 - accuracy: 0.8058 - val_loss: 0.4375 - val_accuracy: 0.8000\n",
            "Epoch 36/100\n",
            "313/313 [==============================] - 20s 64ms/step - loss: 0.4269 - accuracy: 0.8057 - val_loss: 0.4357 - val_accuracy: 0.7984\n",
            "Epoch 37/100\n",
            "313/313 [==============================] - 20s 64ms/step - loss: 0.4230 - accuracy: 0.8088 - val_loss: 0.4409 - val_accuracy: 0.7962\n",
            "Epoch 38/100\n",
            "313/313 [==============================] - 20s 64ms/step - loss: 0.4266 - accuracy: 0.8039 - val_loss: 0.4353 - val_accuracy: 0.7952\n",
            "Epoch 39/100\n",
            "313/313 [==============================] - 20s 64ms/step - loss: 0.4264 - accuracy: 0.8072 - val_loss: 0.4366 - val_accuracy: 0.7962\n",
            "Epoch 40/100\n",
            "313/313 [==============================] - 20s 63ms/step - loss: 0.4247 - accuracy: 0.8054 - val_loss: 0.4343 - val_accuracy: 0.7980\n",
            "Epoch 41/100\n",
            "313/313 [==============================] - 20s 63ms/step - loss: 0.4232 - accuracy: 0.8084 - val_loss: 0.4364 - val_accuracy: 0.8012\n",
            "Epoch 42/100\n",
            "313/313 [==============================] - 20s 64ms/step - loss: 0.4233 - accuracy: 0.8087 - val_loss: 0.4332 - val_accuracy: 0.7990\n",
            "Epoch 43/100\n",
            "313/313 [==============================] - 20s 64ms/step - loss: 0.4230 - accuracy: 0.8076 - val_loss: 0.4332 - val_accuracy: 0.8004\n",
            "Epoch 44/100\n",
            "313/313 [==============================] - 20s 64ms/step - loss: 0.4230 - accuracy: 0.8084 - val_loss: 0.4341 - val_accuracy: 0.8014\n",
            "Epoch 45/100\n",
            "313/313 [==============================] - 20s 64ms/step - loss: 0.4221 - accuracy: 0.8070 - val_loss: 0.4323 - val_accuracy: 0.7986\n",
            "Epoch 46/100\n",
            "313/313 [==============================] - 20s 65ms/step - loss: 0.4214 - accuracy: 0.8098 - val_loss: 0.4337 - val_accuracy: 0.7976\n",
            "Epoch 47/100\n",
            "313/313 [==============================] - 20s 65ms/step - loss: 0.4225 - accuracy: 0.8081 - val_loss: 0.4320 - val_accuracy: 0.8024\n",
            "Epoch 48/100\n",
            "313/313 [==============================] - 21s 66ms/step - loss: 0.4192 - accuracy: 0.8097 - val_loss: 0.4319 - val_accuracy: 0.8014\n",
            "Epoch 49/100\n",
            "313/313 [==============================] - 20s 65ms/step - loss: 0.4207 - accuracy: 0.8094 - val_loss: 0.4334 - val_accuracy: 0.8016\n",
            "Epoch 50/100\n",
            "313/313 [==============================] - 20s 64ms/step - loss: 0.4190 - accuracy: 0.8106 - val_loss: 0.4325 - val_accuracy: 0.8038\n",
            "Epoch 51/100\n",
            "313/313 [==============================] - 20s 64ms/step - loss: 0.4196 - accuracy: 0.8094 - val_loss: 0.4310 - val_accuracy: 0.8020\n",
            "Epoch 52/100\n",
            "313/313 [==============================] - 20s 65ms/step - loss: 0.4171 - accuracy: 0.8094 - val_loss: 0.4362 - val_accuracy: 0.7984\n",
            "Epoch 53/100\n",
            "313/313 [==============================] - 20s 64ms/step - loss: 0.4167 - accuracy: 0.8106 - val_loss: 0.4312 - val_accuracy: 0.8002\n",
            "Epoch 54/100\n",
            "313/313 [==============================] - 20s 65ms/step - loss: 0.4170 - accuracy: 0.8118 - val_loss: 0.4301 - val_accuracy: 0.8002\n",
            "Epoch 55/100\n",
            "313/313 [==============================] - 20s 65ms/step - loss: 0.4165 - accuracy: 0.8114 - val_loss: 0.4307 - val_accuracy: 0.8024\n",
            "Epoch 56/100\n",
            "313/313 [==============================] - 20s 64ms/step - loss: 0.4158 - accuracy: 0.8126 - val_loss: 0.4299 - val_accuracy: 0.7998\n",
            "Epoch 57/100\n",
            "313/313 [==============================] - 20s 64ms/step - loss: 0.4176 - accuracy: 0.8094 - val_loss: 0.4328 - val_accuracy: 0.7990\n",
            "Epoch 58/100\n",
            "313/313 [==============================] - 20s 64ms/step - loss: 0.4147 - accuracy: 0.8120 - val_loss: 0.4292 - val_accuracy: 0.8030\n",
            "Epoch 59/100\n",
            "313/313 [==============================] - 20s 65ms/step - loss: 0.4135 - accuracy: 0.8123 - val_loss: 0.4297 - val_accuracy: 0.8046\n",
            "Epoch 60/100\n",
            "313/313 [==============================] - 20s 65ms/step - loss: 0.4145 - accuracy: 0.8115 - val_loss: 0.4288 - val_accuracy: 0.8044\n",
            "Epoch 61/100\n",
            "313/313 [==============================] - 20s 65ms/step - loss: 0.4138 - accuracy: 0.8108 - val_loss: 0.4294 - val_accuracy: 0.8028\n",
            "Epoch 62/100\n",
            "313/313 [==============================] - 20s 65ms/step - loss: 0.4148 - accuracy: 0.8131 - val_loss: 0.4297 - val_accuracy: 0.8014\n",
            "Epoch 63/100\n",
            "313/313 [==============================] - 20s 65ms/step - loss: 0.4114 - accuracy: 0.8136 - val_loss: 0.4342 - val_accuracy: 0.8004\n"
          ],
          "name": "stdout"
        }
      ]
    },
    {
      "cell_type": "code",
      "metadata": {
        "colab": {
          "base_uri": "https://localhost:8080/",
          "height": 279
        },
        "id": "zaBKoLgxH-QS",
        "outputId": "c2eda410-a4b1-4023-81a8-d9587619221c"
      },
      "source": [
        "plt.plot(history.history['loss'])\n",
        "plt.plot(history.history['val_loss'])\n",
        "plt.xlabel('epoch')\n",
        "plt.ylabel('loss')\n",
        "plt.legend(['train', 'val'])\n",
        "plt.show()"
      ],
      "execution_count": 11,
      "outputs": [
        {
          "output_type": "display_data",
          "data": {
            "image/png": "[encoded data removed]",
            "text/plain": [
              "<Figure size 432x288 with 1 Axes>"
            ]
          },
          "metadata": {
            "tags": [],
            "needs_background": "light"
          }
        }
      ]
    },
    {
      "cell_type": "markdown",
      "metadata": {
        "id": "-8Hz7A2mI9ms"
      },
      "source": [
        "# GRU"
      ]
    },
    {
      "cell_type": "code",
      "metadata": {
        "colab": {
          "base_uri": "https://localhost:8080/"
        },
        "id": "10_NY6N7H-S9",
        "outputId": "f540757e-9caf-4993-e364-8c4dcfe277c8"
      },
      "source": [
        "model4 = keras.Sequential()\n",
        "\n",
        "model4.add(keras.layers.Embedding(500, 16, input_length=100))\n",
        "model4.add(keras.layers.GRU(8))\n",
        "model4.add(keras.layers.Dense(1, activation='sigmoid'))\n",
        "\n",
        "model4.summary()"
      ],
      "execution_count": 12,
      "outputs": [
        {
          "output_type": "stream",
          "text": [
            "Model: \"sequential_3\"\n",
            "_________________________________________________________________\n",
            "Layer (type)                 Output Shape              Param #   \n",
            "=================================================================\n",
            "embedding_3 (Embedding)      (None, 100, 16)           8000      \n",
            "_________________________________________________________________\n",
            "gru (GRU)                    (None, 8)                 624       \n",
            "_________________________________________________________________\n",
            "dense_3 (Dense)              (None, 1)                 9         \n",
            "=================================================================\n",
            "Total params: 8,633\n",
            "Trainable params: 8,633\n",
            "Non-trainable params: 0\n",
            "_________________________________________________________________\n"
          ],
          "name": "stdout"
        }
      ]
    },
    {
      "cell_type": "code",
      "metadata": {
        "colab": {
          "base_uri": "https://localhost:8080/"
        },
        "id": "uIdPdtxXJBEP",
        "outputId": "df1fc0b0-a081-4c15-d8f8-5520dd3f2f89"
      },
      "source": [
        "rmsprop = keras.optimizers.RMSprop(learning_rate=1e-4)\n",
        "model4.compile(optimizer=rmsprop, loss='binary_crossentropy', \n",
        "               metrics=['accuracy'])\n",
        "\n",
        "checkpoint_cb = keras.callbacks.ModelCheckpoint('best-gru-model.h5', \n",
        "                                                save_best_only=True)\n",
        "early_stopping_cb = keras.callbacks.EarlyStopping(patience=3,\n",
        "                                                  restore_best_weights=True)\n",
        "\n",
        "history = model4.fit(train_seq, train_target, epochs=100, batch_size=64,\n",
        "                     validation_data=(val_seq, val_target),\n",
        "                     callbacks=[checkpoint_cb, early_stopping_cb])"
      ],
      "execution_count": 13,
      "outputs": [
        {
          "output_type": "stream",
          "text": [
            "Epoch 1/100\n",
            "313/313 [==============================] - 13s 36ms/step - loss: 0.6923 - accuracy: 0.5415 - val_loss: 0.6914 - val_accuracy: 0.5798\n",
            "Epoch 2/100\n",
            "313/313 [==============================] - 11s 35ms/step - loss: 0.6901 - accuracy: 0.5887 - val_loss: 0.6886 - val_accuracy: 0.6080\n",
            "Epoch 3/100\n",
            "313/313 [==============================] - 11s 35ms/step - loss: 0.6859 - accuracy: 0.6144 - val_loss: 0.6833 - val_accuracy: 0.6224\n",
            "Epoch 4/100\n",
            "313/313 [==============================] - 11s 35ms/step - loss: 0.6777 - accuracy: 0.6365 - val_loss: 0.6727 - val_accuracy: 0.6358\n",
            "Epoch 5/100\n",
            "313/313 [==============================] - 11s 35ms/step - loss: 0.6610 - accuracy: 0.6578 - val_loss: 0.6500 - val_accuracy: 0.6622\n",
            "Epoch 6/100\n",
            "313/313 [==============================] - 11s 35ms/step - loss: 0.6201 - accuracy: 0.6909 - val_loss: 0.5904 - val_accuracy: 0.7000\n",
            "Epoch 7/100\n",
            "313/313 [==============================] - 11s 34ms/step - loss: 0.5563 - accuracy: 0.7332 - val_loss: 0.5501 - val_accuracy: 0.7380\n",
            "Epoch 8/100\n",
            "313/313 [==============================] - 11s 35ms/step - loss: 0.5296 - accuracy: 0.7490 - val_loss: 0.5312 - val_accuracy: 0.7516\n",
            "Epoch 9/100\n",
            "313/313 [==============================] - 11s 35ms/step - loss: 0.5115 - accuracy: 0.7599 - val_loss: 0.5150 - val_accuracy: 0.7588\n",
            "Epoch 10/100\n",
            "313/313 [==============================] - 11s 35ms/step - loss: 0.4969 - accuracy: 0.7695 - val_loss: 0.5019 - val_accuracy: 0.7686\n",
            "Epoch 11/100\n",
            "313/313 [==============================] - 11s 35ms/step - loss: 0.4845 - accuracy: 0.7768 - val_loss: 0.4913 - val_accuracy: 0.7736\n",
            "Epoch 12/100\n",
            "313/313 [==============================] - 11s 36ms/step - loss: 0.4746 - accuracy: 0.7831 - val_loss: 0.4835 - val_accuracy: 0.7772\n",
            "Epoch 13/100\n",
            "313/313 [==============================] - 11s 36ms/step - loss: 0.4664 - accuracy: 0.7894 - val_loss: 0.4761 - val_accuracy: 0.7810\n",
            "Epoch 14/100\n",
            "313/313 [==============================] - 11s 36ms/step - loss: 0.4596 - accuracy: 0.7913 - val_loss: 0.4712 - val_accuracy: 0.7844\n",
            "Epoch 15/100\n",
            "313/313 [==============================] - 11s 36ms/step - loss: 0.4539 - accuracy: 0.7969 - val_loss: 0.4675 - val_accuracy: 0.7850\n",
            "Epoch 16/100\n",
            "313/313 [==============================] - 11s 36ms/step - loss: 0.4493 - accuracy: 0.7980 - val_loss: 0.4637 - val_accuracy: 0.7862\n",
            "Epoch 17/100\n",
            "313/313 [==============================] - 11s 35ms/step - loss: 0.4453 - accuracy: 0.7994 - val_loss: 0.4613 - val_accuracy: 0.7862\n",
            "Epoch 18/100\n",
            "313/313 [==============================] - 11s 35ms/step - loss: 0.4417 - accuracy: 0.8029 - val_loss: 0.4611 - val_accuracy: 0.7844\n",
            "Epoch 19/100\n",
            "313/313 [==============================] - 11s 35ms/step - loss: 0.4386 - accuracy: 0.8037 - val_loss: 0.4605 - val_accuracy: 0.7916\n",
            "Epoch 20/100\n",
            "313/313 [==============================] - 11s 35ms/step - loss: 0.4361 - accuracy: 0.8065 - val_loss: 0.4579 - val_accuracy: 0.7918\n",
            "Epoch 21/100\n",
            "313/313 [==============================] - 11s 35ms/step - loss: 0.4331 - accuracy: 0.8066 - val_loss: 0.4598 - val_accuracy: 0.7846\n",
            "Epoch 22/100\n",
            "313/313 [==============================] - 11s 36ms/step - loss: 0.4316 - accuracy: 0.8087 - val_loss: 0.4546 - val_accuracy: 0.7924\n",
            "Epoch 23/100\n",
            "313/313 [==============================] - 11s 36ms/step - loss: 0.4298 - accuracy: 0.8092 - val_loss: 0.4538 - val_accuracy: 0.7914\n",
            "Epoch 24/100\n",
            "313/313 [==============================] - 11s 35ms/step - loss: 0.4283 - accuracy: 0.8109 - val_loss: 0.4551 - val_accuracy: 0.7912\n",
            "Epoch 25/100\n",
            "313/313 [==============================] - 11s 37ms/step - loss: 0.4265 - accuracy: 0.8110 - val_loss: 0.4551 - val_accuracy: 0.7860\n",
            "Epoch 26/100\n",
            "313/313 [==============================] - 11s 37ms/step - loss: 0.4254 - accuracy: 0.8126 - val_loss: 0.4524 - val_accuracy: 0.7884\n",
            "Epoch 27/100\n",
            "313/313 [==============================] - 11s 36ms/step - loss: 0.4245 - accuracy: 0.8127 - val_loss: 0.4510 - val_accuracy: 0.7882\n",
            "Epoch 28/100\n",
            "313/313 [==============================] - 11s 35ms/step - loss: 0.4237 - accuracy: 0.8135 - val_loss: 0.4536 - val_accuracy: 0.7894\n",
            "Epoch 29/100\n",
            "313/313 [==============================] - 11s 35ms/step - loss: 0.4229 - accuracy: 0.8131 - val_loss: 0.4511 - val_accuracy: 0.7932\n",
            "Epoch 30/100\n",
            "313/313 [==============================] - 11s 35ms/step - loss: 0.4218 - accuracy: 0.8128 - val_loss: 0.4509 - val_accuracy: 0.7878\n",
            "Epoch 31/100\n",
            "313/313 [==============================] - 11s 35ms/step - loss: 0.4210 - accuracy: 0.8130 - val_loss: 0.4526 - val_accuracy: 0.7882\n",
            "Epoch 32/100\n",
            "313/313 [==============================] - 11s 35ms/step - loss: 0.4203 - accuracy: 0.8142 - val_loss: 0.4535 - val_accuracy: 0.7854\n",
            "Epoch 33/100\n",
            "313/313 [==============================] - 11s 35ms/step - loss: 0.4197 - accuracy: 0.8145 - val_loss: 0.4545 - val_accuracy: 0.7922\n"
          ],
          "name": "stdout"
        }
      ]
    },
    {
      "cell_type": "code",
      "metadata": {
        "colab": {
          "base_uri": "https://localhost:8080/",
          "height": 279
        },
        "id": "85_56KKpJEBd",
        "outputId": "e53e642b-e28c-41bb-96c3-0c066ed9fc87"
      },
      "source": [
        "plt.plot(history.history['loss'])\n",
        "plt.plot(history.history['val_loss'])\n",
        "plt.xlabel('epoch')\n",
        "plt.ylabel('loss')\n",
        "plt.legend(['train', 'val'])\n",
        "plt.show()"
      ],
      "execution_count": 14,
      "outputs": [
        {
          "output_type": "display_data",
          "data": {
            "image/png": "[encoded data removed]",
            "text/plain": [
              "<Figure size 432x288 with 1 Axes>"
            ]
          },
          "metadata": {
            "tags": [],
            "needs_background": "light"
          }
        }
      ]
    }
  ]
}