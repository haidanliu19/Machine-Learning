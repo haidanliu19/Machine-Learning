{
  "nbformat": 4,
  "nbformat_minor": 0,
  "metadata": {
    "colab": {
      "name": "9.2 순환 신경망으로 IMDB 리뷰 분류하기.ipynb",
      "provenance": [],
      "collapsed_sections": []
    },
    "kernelspec": {
      "name": "python3",
      "display_name": "Python 3"
    },
    "language_info": {
      "name": "python"
    }
  },
  "cells": [
    {
      "cell_type": "code",
      "metadata": {
        "colab": {
          "base_uri": "https://localhost:8080/"
        },
        "id": "bRMXog_Q7vL3",
        "outputId": "0904dffd-cfd6-4304-a873-1f4c9fd0a604"
      },
      "source": [
        "from tensorflow.keras.datasets import imdb\n",
        "\n",
        "(train_input, train_target), (test_input, test_target) = imdb.load_data(\n",
        "    num_words=500)"
      ],
      "execution_count": 1,
      "outputs": [
        {
          "output_type": "stream",
          "text": [
            "Downloading data from https://storage.googleapis.com/tensorflow/tf-keras-datasets/imdb.npz\n",
            "17465344/17464789 [==============================] - 0s 0us/step\n"
          ],
          "name": "stdout"
        },
        {
          "output_type": "stream",
          "text": [
            "<string>:6: VisibleDeprecationWarning: Creating an ndarray from ragged nested sequences (which is a list-or-tuple of lists-or-tuples-or ndarrays with different lengths or shapes) is deprecated. If you meant to do this, you must specify 'dtype=object' when creating the ndarray\n",
            "/usr/local/lib/python3.7/dist-packages/tensorflow/python/keras/datasets/imdb.py:155: VisibleDeprecationWarning: Creating an ndarray from ragged nested sequences (which is a list-or-tuple of lists-or-tuples-or ndarrays with different lengths or shapes) is deprecated. If you meant to do this, you must specify 'dtype=object' when creating the ndarray\n",
            "  x_train, y_train = np.array(xs[:idx]), np.array(labels[:idx])\n",
            "/usr/local/lib/python3.7/dist-packages/tensorflow/python/keras/datasets/imdb.py:156: VisibleDeprecationWarning: Creating an ndarray from ragged nested sequences (which is a list-or-tuple of lists-or-tuples-or ndarrays with different lengths or shapes) is deprecated. If you meant to do this, you must specify 'dtype=object' when creating the ndarray\n",
            "  x_test, y_test = np.array(xs[idx:]), np.array(labels[idx:])\n"
          ],
          "name": "stderr"
        }
      ]
    },
    {
      "cell_type": "code",
      "metadata": {
        "colab": {
          "base_uri": "https://localhost:8080/"
        },
        "id": "RHOwWYueB9Xe",
        "outputId": "7aafd62b-25bd-448c-9659-6daaf5bb9189"
      },
      "source": [
        "print(train_input.shape, test_input.shape)"
      ],
      "execution_count": 2,
      "outputs": [
        {
          "output_type": "stream",
          "text": [
            "(25000,) (25000,)\n"
          ],
          "name": "stdout"
        }
      ]
    },
    {
      "cell_type": "code",
      "metadata": {
        "colab": {
          "base_uri": "https://localhost:8080/"
        },
        "id": "nlW2mFuxCAxj",
        "outputId": "8d15c5a0-4e85-487d-d8c3-4e7c5a4b7ec8"
      },
      "source": [
        "print(train_input[0])"
      ],
      "execution_count": 4,
      "outputs": [
        {
          "output_type": "stream",
          "text": [
            "[1, 14, 22, 16, 43, 2, 2, 2, 2, 65, 458, 2, 66, 2, 4, 173, 36, 256, 5, 25, 100, 43, 2, 112, 50, 2, 2, 9, 35, 480, 284, 5, 150, 4, 172, 112, 167, 2, 336, 385, 39, 4, 172, 2, 2, 17, 2, 38, 13, 447, 4, 192, 50, 16, 6, 147, 2, 19, 14, 22, 4, 2, 2, 469, 4, 22, 71, 87, 12, 16, 43, 2, 38, 76, 15, 13, 2, 4, 22, 17, 2, 17, 12, 16, 2, 18, 2, 5, 62, 386, 12, 8, 316, 8, 106, 5, 4, 2, 2, 16, 480, 66, 2, 33, 4, 130, 12, 16, 38, 2, 5, 25, 124, 51, 36, 135, 48, 25, 2, 33, 6, 22, 12, 215, 28, 77, 52, 5, 14, 407, 16, 82, 2, 8, 4, 107, 117, 2, 15, 256, 4, 2, 7, 2, 5, 2, 36, 71, 43, 2, 476, 26, 400, 317, 46, 7, 4, 2, 2, 13, 104, 88, 4, 381, 15, 297, 98, 32, 2, 56, 26, 141, 6, 194, 2, 18, 4, 226, 22, 21, 134, 476, 26, 480, 5, 144, 30, 2, 18, 51, 36, 28, 224, 92, 25, 104, 4, 226, 65, 16, 38, 2, 88, 12, 16, 283, 5, 16, 2, 113, 103, 32, 15, 16, 2, 19, 178, 32]\n"
          ],
          "name": "stdout"
        }
      ]
    },
    {
      "cell_type": "code",
      "metadata": {
        "colab": {
          "base_uri": "https://localhost:8080/"
        },
        "id": "8VXkU0KRCA5P",
        "outputId": "1159695a-4c62-44b8-a4db-dcc1badbb7de"
      },
      "source": [
        "print(train_target[:20])"
      ],
      "execution_count": 5,
      "outputs": [
        {
          "output_type": "stream",
          "text": [
            "[1 0 0 1 0 0 1 0 1 0 1 0 0 0 0 0 1 1 0 1]\n"
          ],
          "name": "stdout"
        }
      ]
    },
    {
      "cell_type": "code",
      "metadata": {
        "id": "Lc0-_Q-aCIRJ"
      },
      "source": [
        "from sklearn.model_selection import train_test_split\n",
        "\n",
        "train_input, val_input, train_target, val_target = train_test_split(\n",
        "    train_input, train_target, test_size=0.2, random_state=42)"
      ],
      "execution_count": 6,
      "outputs": []
    },
    {
      "cell_type": "code",
      "metadata": {
        "colab": {
          "base_uri": "https://localhost:8080/"
        },
        "id": "s-brk8AzCIz6",
        "outputId": "4a0b3aeb-8d9d-4eb0-e2ad-f4e4c153de30"
      },
      "source": [
        "import numpy as np\n",
        "lengths = np.array([len(x) for x in train_input])\n",
        "print(np.mean(lengths), np.median(lengths))"
      ],
      "execution_count": 8,
      "outputs": [
        {
          "output_type": "stream",
          "text": [
            "239.00925 178.0\n"
          ],
          "name": "stdout"
        }
      ]
    },
    {
      "cell_type": "code",
      "metadata": {
        "colab": {
          "base_uri": "https://localhost:8080/",
          "height": 279
        },
        "id": "KGEelAkNCI3b",
        "outputId": "4918c144-944c-468d-f89b-bf938d75ce31"
      },
      "source": [
        "import matplotlib.pyplot as plt\n",
        "\n",
        "plt.hist(lengths)\n",
        "plt.xlabel('length')\n",
        "plt.ylabel('frequency')\n",
        "plt.show()"
      ],
      "execution_count": 9,
      "outputs": [
        {
          "output_type": "display_data",
          "data": {
            "image/png": "[encoded data removed]",
            "text/plain": [
              "<Figure size 432x288 with 1 Axes>"
            ]
          },
          "metadata": {
            "tags": [],
            "needs_background": "light"
          }
        }
      ]
    },
    {
      "cell_type": "markdown",
      "metadata": {
        "id": "kajsYCFGC2tL"
      },
      "source": [
        "# 시퀀스 패딩"
      ]
    },
    {
      "cell_type": "code",
      "metadata": {
        "colab": {
          "base_uri": "https://localhost:8080/"
        },
        "id": "dDw2ZRiICu4G",
        "outputId": "074a6a99-1469-4bf3-e30c-737cae0f8ead"
      },
      "source": [
        "from tensorflow.keras.preprocessing.sequence import pad_sequences\n",
        "train_seq = pad_sequences(train_input, maxlen=100)\n",
        "print(train_seq.shape)"
      ],
      "execution_count": 10,
      "outputs": [
        {
          "output_type": "stream",
          "text": [
            "(20000, 100)\n"
          ],
          "name": "stdout"
        }
      ]
    },
    {
      "cell_type": "code",
      "metadata": {
        "colab": {
          "base_uri": "https://localhost:8080/"
        },
        "id": "_NzvcRO0Cu7l",
        "outputId": "5fb330ee-239c-44c4-f07a-819dc55d006f"
      },
      "source": [
        "print(train_seq[0])"
      ],
      "execution_count": 11,
      "outputs": [
        {
          "output_type": "stream",
          "text": [
            "[ 10   4  20   9   2 364 352   5  45   6   2   2  33 269   8   2 142   2\n",
            "   5   2  17  73  17 204   5   2  19  55   2   2  92  66 104  14  20  93\n",
            "  76   2 151  33   4  58  12 188   2 151  12 215  69 224 142  73 237   6\n",
            "   2   7   2   2 188   2 103  14  31  10  10 451   7   2   5   2  80  91\n",
            "   2  30   2  34  14  20 151  50  26 131  49   2  84  46  50  37  80  79\n",
            "   6   2  46   7  14  20  10  10 470 158]\n"
          ],
          "name": "stdout"
        }
      ]
    },
    {
      "cell_type": "code",
      "metadata": {
        "colab": {
          "base_uri": "https://localhost:8080/"
        },
        "id": "LtACzaxtCu_T",
        "outputId": "4b83258b-6b69-46fe-ed57-78449c5ff563"
      },
      "source": [
        "print(train_input[0][-10:])"
      ],
      "execution_count": 12,
      "outputs": [
        {
          "output_type": "stream",
          "text": [
            "[6, 2, 46, 7, 14, 20, 10, 10, 470, 158]\n"
          ],
          "name": "stdout"
        }
      ]
    },
    {
      "cell_type": "code",
      "metadata": {
        "colab": {
          "base_uri": "https://localhost:8080/"
        },
        "id": "wQenQOLHCI6u",
        "outputId": "9871d339-9568-48f1-8953-0ccd57f05e6e"
      },
      "source": [
        "print(train_seq[5])"
      ],
      "execution_count": 13,
      "outputs": [
        {
          "output_type": "stream",
          "text": [
            "[  0   0   0   0   1   2 195  19  49   2   2 190   4   2 352   2 183  10\n",
            "  10  13  82  79   4   2  36  71 269   8   2  25  19  49   7   4   2   2\n",
            "   2   2   2  10  10  48  25  40   2  11   2   2  40   2   2   5   4   2\n",
            "   2  95  14 238  56 129   2  10  10  21   2  94 364 352   2   2  11 190\n",
            "  24 484   2   7  94 205 405  10  10  87   2  34  49   2   7   2   2   2\n",
            "   2   2 290   2  46  48  64  18   4   2]\n"
          ],
          "name": "stdout"
        }
      ]
    },
    {
      "cell_type": "code",
      "metadata": {
        "id": "gHA1DAkhDIwg"
      },
      "source": [
        "val_seq = pad_sequences(val_input, maxlen=100)"
      ],
      "execution_count": 14,
      "outputs": []
    },
    {
      "cell_type": "markdown",
      "metadata": {
        "id": "aEa2e5ySDWK4"
      },
      "source": [
        "# 순현 신경망 만들기"
      ]
    },
    {
      "cell_type": "code",
      "metadata": {
        "id": "_lrWmjtzDIzV"
      },
      "source": [
        "from tensorflow import keras\n",
        "model = keras.Sequential()\n",
        "\n",
        "model.add(keras.layers.SimpleRNN(8, input_shape=(100, 500)))\n",
        "model.add(keras.layers.Dense(1, activation='sigmoid'))"
      ],
      "execution_count": 15,
      "outputs": []
    },
    {
      "cell_type": "code",
      "metadata": {
        "colab": {
          "base_uri": "https://localhost:8080/"
        },
        "id": "528qUXSSDYiz",
        "outputId": "97f88456-ef7d-4779-f190-89e37b4478de"
      },
      "source": [
        "train_oh = keras.utils.to_categorical(train_seq)\n",
        "print(train_oh.shape)"
      ],
      "execution_count": 16,
      "outputs": [
        {
          "output_type": "stream",
          "text": [
            "(20000, 100, 500)\n"
          ],
          "name": "stdout"
        }
      ]
    },
    {
      "cell_type": "code",
      "metadata": {
        "colab": {
          "base_uri": "https://localhost:8080/"
        },
        "id": "VEImij-VDYmH",
        "outputId": "ae225dc3-f150-4b1f-ccf8-75cb36d853e5"
      },
      "source": [
        "print(train_oh[0][0][:12])"
      ],
      "execution_count": 17,
      "outputs": [
        {
          "output_type": "stream",
          "text": [
            "[0. 0. 0. 0. 0. 0. 0. 0. 0. 0. 1. 0.]\n"
          ],
          "name": "stdout"
        }
      ]
    },
    {
      "cell_type": "code",
      "metadata": {
        "colab": {
          "base_uri": "https://localhost:8080/"
        },
        "id": "4450oU4tDI2U",
        "outputId": "247eb6f9-1fe1-48b5-f6bd-00aab0fceee9"
      },
      "source": [
        "print(np.sum(train_oh[0][0]))"
      ],
      "execution_count": 18,
      "outputs": [
        {
          "output_type": "stream",
          "text": [
            "1.0\n"
          ],
          "name": "stdout"
        }
      ]
    },
    {
      "cell_type": "code",
      "metadata": {
        "id": "gRX6LAg2EFmS"
      },
      "source": [
        "val_oh = keras.utils.to_categorical(val_seq)"
      ],
      "execution_count": 19,
      "outputs": []
    },
    {
      "cell_type": "code",
      "metadata": {
        "colab": {
          "base_uri": "https://localhost:8080/"
        },
        "id": "htHNtGWeEFpv",
        "outputId": "989790f4-bec0-47ef-9ae4-1791732608bc"
      },
      "source": [
        "model.summary()"
      ],
      "execution_count": 20,
      "outputs": [
        {
          "output_type": "stream",
          "text": [
            "Model: \"sequential\"\n",
            "_________________________________________________________________\n",
            "Layer (type)                 Output Shape              Param #   \n",
            "=================================================================\n",
            "simple_rnn (SimpleRNN)       (None, 8)                 4072      \n",
            "_________________________________________________________________\n",
            "dense (Dense)                (None, 1)                 9         \n",
            "=================================================================\n",
            "Total params: 4,081\n",
            "Trainable params: 4,081\n",
            "Non-trainable params: 0\n",
            "_________________________________________________________________\n"
          ],
          "name": "stdout"
        }
      ]
    },
    {
      "cell_type": "code",
      "metadata": {
        "colab": {
          "base_uri": "https://localhost:8080/"
        },
        "id": "igT0OjR7EOfM",
        "outputId": "e852a79b-ff66-4997-ea9d-8f5fddb8f392"
      },
      "source": [
        "rmsprop = keras.optimizers.RMSprop(learning_rate=1e-4)\n",
        "model.compile(optimizer=rmsprop, loss='binary_crossentropy', \n",
        "              metrics=['accuracy'])\n",
        "\n",
        "checkpoint_cb = keras.callbacks.ModelCheckpoint('best-simplernn-model.h5', \n",
        "                                                save_best_only=True)\n",
        "early_stopping_cb = keras.callbacks.EarlyStopping(patience=3,\n",
        "                                                  restore_best_weights=True)\n",
        "\n",
        "history = model.fit(train_oh, train_target, epochs=100, batch_size=64,\n",
        "                    validation_data=(val_oh, val_target),\n",
        "                    callbacks=[checkpoint_cb, early_stopping_cb])"
      ],
      "execution_count": 21,
      "outputs": [
        {
          "output_type": "stream",
          "text": [
            "Epoch 1/100\n",
            "313/313 [==============================] - 14s 40ms/step - loss: 0.6969 - accuracy: 0.5062 - val_loss: 0.6938 - val_accuracy: 0.5124\n",
            "Epoch 2/100\n",
            "313/313 [==============================] - 12s 38ms/step - loss: 0.6936 - accuracy: 0.5170 - val_loss: 0.6924 - val_accuracy: 0.5158\n",
            "Epoch 3/100\n",
            "313/313 [==============================] - 12s 39ms/step - loss: 0.6913 - accuracy: 0.5274 - val_loss: 0.6914 - val_accuracy: 0.5180\n",
            "Epoch 4/100\n",
            "313/313 [==============================] - 12s 39ms/step - loss: 0.6882 - accuracy: 0.5424 - val_loss: 0.6874 - val_accuracy: 0.5412\n",
            "Epoch 5/100\n",
            "313/313 [==============================] - 12s 39ms/step - loss: 0.6795 - accuracy: 0.5790 - val_loss: 0.6801 - val_accuracy: 0.5704\n",
            "Epoch 6/100\n",
            "313/313 [==============================] - 12s 38ms/step - loss: 0.6707 - accuracy: 0.6025 - val_loss: 0.6724 - val_accuracy: 0.5916\n",
            "Epoch 7/100\n",
            "313/313 [==============================] - 12s 38ms/step - loss: 0.6607 - accuracy: 0.6256 - val_loss: 0.6616 - val_accuracy: 0.6132\n",
            "Epoch 8/100\n",
            "313/313 [==============================] - 12s 38ms/step - loss: 0.6473 - accuracy: 0.6509 - val_loss: 0.6481 - val_accuracy: 0.6370\n",
            "Epoch 9/100\n",
            "313/313 [==============================] - 12s 38ms/step - loss: 0.6302 - accuracy: 0.6752 - val_loss: 0.6324 - val_accuracy: 0.6632\n",
            "Epoch 10/100\n",
            "313/313 [==============================] - 12s 39ms/step - loss: 0.6110 - accuracy: 0.6986 - val_loss: 0.6153 - val_accuracy: 0.6834\n",
            "Epoch 11/100\n",
            "313/313 [==============================] - 12s 38ms/step - loss: 0.5931 - accuracy: 0.7171 - val_loss: 0.5986 - val_accuracy: 0.6984\n",
            "Epoch 12/100\n",
            "313/313 [==============================] - 12s 38ms/step - loss: 0.5746 - accuracy: 0.7345 - val_loss: 0.5806 - val_accuracy: 0.7142\n",
            "Epoch 13/100\n",
            "313/313 [==============================] - 12s 38ms/step - loss: 0.5575 - accuracy: 0.7457 - val_loss: 0.5643 - val_accuracy: 0.7368\n",
            "Epoch 14/100\n",
            "313/313 [==============================] - 12s 39ms/step - loss: 0.5421 - accuracy: 0.7559 - val_loss: 0.5507 - val_accuracy: 0.7436\n",
            "Epoch 15/100\n",
            "313/313 [==============================] - 12s 39ms/step - loss: 0.5278 - accuracy: 0.7649 - val_loss: 0.5374 - val_accuracy: 0.7534\n",
            "Epoch 16/100\n",
            "313/313 [==============================] - 12s 38ms/step - loss: 0.5146 - accuracy: 0.7738 - val_loss: 0.5257 - val_accuracy: 0.7622\n",
            "Epoch 17/100\n",
            "313/313 [==============================] - 12s 39ms/step - loss: 0.5027 - accuracy: 0.7793 - val_loss: 0.5182 - val_accuracy: 0.7630\n",
            "Epoch 18/100\n",
            "313/313 [==============================] - 12s 39ms/step - loss: 0.4926 - accuracy: 0.7849 - val_loss: 0.5088 - val_accuracy: 0.7664\n",
            "Epoch 19/100\n",
            "313/313 [==============================] - 12s 39ms/step - loss: 0.4831 - accuracy: 0.7893 - val_loss: 0.5034 - val_accuracy: 0.7652\n",
            "Epoch 20/100\n",
            "313/313 [==============================] - 12s 39ms/step - loss: 0.4747 - accuracy: 0.7936 - val_loss: 0.4933 - val_accuracy: 0.7746\n",
            "Epoch 21/100\n",
            "313/313 [==============================] - 12s 39ms/step - loss: 0.4671 - accuracy: 0.7951 - val_loss: 0.4871 - val_accuracy: 0.7788\n",
            "Epoch 22/100\n",
            "313/313 [==============================] - 12s 39ms/step - loss: 0.4605 - accuracy: 0.7984 - val_loss: 0.4842 - val_accuracy: 0.7796\n",
            "Epoch 23/100\n",
            "313/313 [==============================] - 12s 39ms/step - loss: 0.4545 - accuracy: 0.8015 - val_loss: 0.4845 - val_accuracy: 0.7760\n",
            "Epoch 24/100\n",
            "313/313 [==============================] - 12s 38ms/step - loss: 0.4491 - accuracy: 0.8033 - val_loss: 0.4732 - val_accuracy: 0.7846\n",
            "Epoch 25/100\n",
            "313/313 [==============================] - 12s 39ms/step - loss: 0.4444 - accuracy: 0.8061 - val_loss: 0.4717 - val_accuracy: 0.7834\n",
            "Epoch 26/100\n",
            "313/313 [==============================] - 12s 39ms/step - loss: 0.4397 - accuracy: 0.8069 - val_loss: 0.4673 - val_accuracy: 0.7850\n",
            "Epoch 27/100\n",
            "313/313 [==============================] - 12s 38ms/step - loss: 0.4359 - accuracy: 0.8090 - val_loss: 0.4654 - val_accuracy: 0.7846\n",
            "Epoch 28/100\n",
            "313/313 [==============================] - 12s 39ms/step - loss: 0.4327 - accuracy: 0.8107 - val_loss: 0.4632 - val_accuracy: 0.7858\n",
            "Epoch 29/100\n",
            "313/313 [==============================] - 12s 39ms/step - loss: 0.4294 - accuracy: 0.8119 - val_loss: 0.4610 - val_accuracy: 0.7866\n",
            "Epoch 30/100\n",
            "313/313 [==============================] - 12s 39ms/step - loss: 0.4260 - accuracy: 0.8124 - val_loss: 0.4591 - val_accuracy: 0.7882\n",
            "Epoch 31/100\n",
            "313/313 [==============================] - 12s 39ms/step - loss: 0.4238 - accuracy: 0.8131 - val_loss: 0.4592 - val_accuracy: 0.7876\n",
            "Epoch 32/100\n",
            "313/313 [==============================] - 12s 39ms/step - loss: 0.4218 - accuracy: 0.8142 - val_loss: 0.4576 - val_accuracy: 0.7886\n",
            "Epoch 33/100\n",
            "313/313 [==============================] - 12s 39ms/step - loss: 0.4193 - accuracy: 0.8178 - val_loss: 0.4606 - val_accuracy: 0.7854\n",
            "Epoch 34/100\n",
            "313/313 [==============================] - 12s 39ms/step - loss: 0.4175 - accuracy: 0.8176 - val_loss: 0.4615 - val_accuracy: 0.7854\n",
            "Epoch 35/100\n",
            "313/313 [==============================] - 12s 39ms/step - loss: 0.4158 - accuracy: 0.8181 - val_loss: 0.4588 - val_accuracy: 0.7852\n"
          ],
          "name": "stdout"
        }
      ]
    },
    {
      "cell_type": "code",
      "metadata": {
        "colab": {
          "base_uri": "https://localhost:8080/",
          "height": 279
        },
        "id": "Kswz3lhuEhXi",
        "outputId": "d5cfc91a-17b0-4dd8-eff1-bfa3a0197317"
      },
      "source": [
        "plt.plot(history.history['loss'])\n",
        "plt.plot(history.history['val_loss'])\n",
        "plt.xlabel('epoch')\n",
        "plt.ylabel('loss')\n",
        "plt.legend(['train', 'val'])\n",
        "plt.show()"
      ],
      "execution_count": 22,
      "outputs": [
        {
          "output_type": "display_data",
          "data": {
            "image/png": "[encoded data removed]",
            "text/plain": [
              "<Figure size 432x288 with 1 Axes>"
            ]
          },
          "metadata": {
            "tags": [],
            "needs_background": "light"
          }
        }
      ]
    },
    {
      "cell_type": "markdown",
      "metadata": {
        "id": "wtkhx1yVFJRH"
      },
      "source": [
        "# 임베딩"
      ]
    },
    {
      "cell_type": "code",
      "metadata": {
        "id": "q2e9UjjoE1k9"
      },
      "source": [
        "from tensorflow import keras\n",
        "model2 = keras.Sequential()\n",
        "model2.add(keras.layers.Embedding(500, 16, input_length=100))\n",
        "model2.add(keras.layers.SimpleRNN(8))\n",
        "model2.add(keras.layers.Dense(1, activation='sigmoid'))"
      ],
      "execution_count": 25,
      "outputs": []
    },
    {
      "cell_type": "code",
      "metadata": {
        "colab": {
          "base_uri": "https://localhost:8080/"
        },
        "id": "K0A9kF1IE1rE",
        "outputId": "9a39c570-5a31-4d0b-e74c-9ec498d2449a"
      },
      "source": [
        "model2.summary()"
      ],
      "execution_count": 26,
      "outputs": [
        {
          "output_type": "stream",
          "text": [
            "Model: \"sequential_2\"\n",
            "_________________________________________________________________\n",
            "Layer (type)                 Output Shape              Param #   \n",
            "=================================================================\n",
            "embedding (Embedding)        (None, 100, 16)           8000      \n",
            "_________________________________________________________________\n",
            "simple_rnn_1 (SimpleRNN)     (None, 8)                 200       \n",
            "_________________________________________________________________\n",
            "dense_1 (Dense)              (None, 1)                 9         \n",
            "=================================================================\n",
            "Total params: 8,209\n",
            "Trainable params: 8,209\n",
            "Non-trainable params: 0\n",
            "_________________________________________________________________\n"
          ],
          "name": "stdout"
        }
      ]
    },
    {
      "cell_type": "code",
      "metadata": {
        "colab": {
          "base_uri": "https://localhost:8080/"
        },
        "id": "cTaYTVNsE1uK",
        "outputId": "b7106532-7650-4b70-d120-55a7a67c2c3a"
      },
      "source": [
        "rmsprop = keras.optimizers.RMSprop(learning_rate=1e-4)\n",
        "model2.compile(optimizer=rmsprop, loss='binary_crossentropy', \n",
        "               metrics=['accuracy'])\n",
        "\n",
        "checkpoint_cb = keras.callbacks.ModelCheckpoint('best-embedding-model.h5', \n",
        "                                                save_best_only=True)\n",
        "early_stopping_cb = keras.callbacks.EarlyStopping(patience=3,\n",
        "                                                  restore_best_weights=True)\n",
        "\n",
        "history = model2.fit(train_seq, train_target, epochs=100, batch_size=64,\n",
        "                     validation_data=(val_seq, val_target),\n",
        "                     callbacks=[checkpoint_cb, early_stopping_cb])"
      ],
      "execution_count": 27,
      "outputs": [
        {
          "output_type": "stream",
          "text": [
            "Epoch 1/100\n",
            "313/313 [==============================] - 8s 21ms/step - loss: 0.6767 - accuracy: 0.5843 - val_loss: 0.6605 - val_accuracy: 0.6354\n",
            "Epoch 2/100\n",
            "313/313 [==============================] - 6s 21ms/step - loss: 0.6447 - accuracy: 0.6741 - val_loss: 0.6342 - val_accuracy: 0.6888\n",
            "Epoch 3/100\n",
            "313/313 [==============================] - 6s 21ms/step - loss: 0.6195 - accuracy: 0.7156 - val_loss: 0.6125 - val_accuracy: 0.7172\n",
            "Epoch 4/100\n",
            "313/313 [==============================] - 6s 20ms/step - loss: 0.5995 - accuracy: 0.7380 - val_loss: 0.5968 - val_accuracy: 0.7330\n",
            "Epoch 5/100\n",
            "313/313 [==============================] - 7s 21ms/step - loss: 0.5819 - accuracy: 0.7543 - val_loss: 0.5848 - val_accuracy: 0.7350\n",
            "Epoch 6/100\n",
            "313/313 [==============================] - 7s 21ms/step - loss: 0.5663 - accuracy: 0.7631 - val_loss: 0.5701 - val_accuracy: 0.7536\n",
            "Epoch 7/100\n",
            "313/313 [==============================] - 7s 21ms/step - loss: 0.5512 - accuracy: 0.7720 - val_loss: 0.5552 - val_accuracy: 0.7614\n",
            "Epoch 8/100\n",
            "313/313 [==============================] - 7s 21ms/step - loss: 0.5373 - accuracy: 0.7801 - val_loss: 0.5455 - val_accuracy: 0.7598\n",
            "Epoch 9/100\n",
            "313/313 [==============================] - 6s 21ms/step - loss: 0.5245 - accuracy: 0.7851 - val_loss: 0.5312 - val_accuracy: 0.7718\n",
            "Epoch 10/100\n",
            "313/313 [==============================] - 6s 21ms/step - loss: 0.5122 - accuracy: 0.7910 - val_loss: 0.5339 - val_accuracy: 0.7530\n",
            "Epoch 11/100\n",
            "313/313 [==============================] - 7s 21ms/step - loss: 0.5015 - accuracy: 0.7933 - val_loss: 0.5205 - val_accuracy: 0.7650\n",
            "Epoch 12/100\n",
            "313/313 [==============================] - 6s 21ms/step - loss: 0.4910 - accuracy: 0.7980 - val_loss: 0.5041 - val_accuracy: 0.7798\n",
            "Epoch 13/100\n",
            "313/313 [==============================] - 7s 21ms/step - loss: 0.4815 - accuracy: 0.8004 - val_loss: 0.4967 - val_accuracy: 0.7832\n",
            "Epoch 14/100\n",
            "313/313 [==============================] - 6s 21ms/step - loss: 0.4730 - accuracy: 0.8020 - val_loss: 0.4935 - val_accuracy: 0.7820\n",
            "Epoch 15/100\n",
            "313/313 [==============================] - 6s 21ms/step - loss: 0.4649 - accuracy: 0.8048 - val_loss: 0.4888 - val_accuracy: 0.7796\n",
            "Epoch 16/100\n",
            "313/313 [==============================] - 7s 21ms/step - loss: 0.4581 - accuracy: 0.8072 - val_loss: 0.4812 - val_accuracy: 0.7876\n",
            "Epoch 17/100\n",
            "313/313 [==============================] - 6s 20ms/step - loss: 0.4513 - accuracy: 0.8081 - val_loss: 0.4867 - val_accuracy: 0.7756\n",
            "Epoch 18/100\n",
            "313/313 [==============================] - 6s 21ms/step - loss: 0.4451 - accuracy: 0.8112 - val_loss: 0.4760 - val_accuracy: 0.7828\n",
            "Epoch 19/100\n",
            "313/313 [==============================] - 7s 21ms/step - loss: 0.4398 - accuracy: 0.8141 - val_loss: 0.4731 - val_accuracy: 0.7826\n",
            "Epoch 20/100\n",
            "313/313 [==============================] - 6s 21ms/step - loss: 0.4349 - accuracy: 0.8140 - val_loss: 0.4694 - val_accuracy: 0.7854\n",
            "Epoch 21/100\n",
            "313/313 [==============================] - 7s 21ms/step - loss: 0.4300 - accuracy: 0.8152 - val_loss: 0.4677 - val_accuracy: 0.7862\n",
            "Epoch 22/100\n",
            "313/313 [==============================] - 6s 21ms/step - loss: 0.4264 - accuracy: 0.8179 - val_loss: 0.4644 - val_accuracy: 0.7874\n",
            "Epoch 23/100\n",
            "313/313 [==============================] - 6s 20ms/step - loss: 0.4228 - accuracy: 0.8191 - val_loss: 0.4643 - val_accuracy: 0.7860\n",
            "Epoch 24/100\n",
            "313/313 [==============================] - 6s 21ms/step - loss: 0.4196 - accuracy: 0.8191 - val_loss: 0.4637 - val_accuracy: 0.7866\n",
            "Epoch 25/100\n",
            "313/313 [==============================] - 6s 21ms/step - loss: 0.4162 - accuracy: 0.8206 - val_loss: 0.4622 - val_accuracy: 0.7892\n",
            "Epoch 26/100\n",
            "313/313 [==============================] - 6s 21ms/step - loss: 0.4137 - accuracy: 0.8214 - val_loss: 0.4622 - val_accuracy: 0.7862\n",
            "Epoch 27/100\n",
            "313/313 [==============================] - 6s 21ms/step - loss: 0.4105 - accuracy: 0.8213 - val_loss: 0.4643 - val_accuracy: 0.7822\n",
            "Epoch 28/100\n",
            "313/313 [==============================] - 6s 21ms/step - loss: 0.4079 - accuracy: 0.8249 - val_loss: 0.4619 - val_accuracy: 0.7890\n",
            "Epoch 29/100\n",
            "313/313 [==============================] - 7s 21ms/step - loss: 0.4057 - accuracy: 0.8242 - val_loss: 0.4641 - val_accuracy: 0.7860\n",
            "Epoch 30/100\n",
            "313/313 [==============================] - 7s 21ms/step - loss: 0.4035 - accuracy: 0.8255 - val_loss: 0.4626 - val_accuracy: 0.7890\n",
            "Epoch 31/100\n",
            "313/313 [==============================] - 7s 21ms/step - loss: 0.4015 - accuracy: 0.8263 - val_loss: 0.4682 - val_accuracy: 0.7862\n"
          ],
          "name": "stdout"
        }
      ]
    },
    {
      "cell_type": "code",
      "metadata": {
        "colab": {
          "base_uri": "https://localhost:8080/",
          "height": 279
        },
        "id": "sPlt0tSpE1xy",
        "outputId": "2b15dee3-b02f-4a5e-a4bb-1eaccb5e36fa"
      },
      "source": [
        "plt.plot(history.history['loss'])\n",
        "plt.plot(history.history['val_loss'])\n",
        "plt.xlabel('epoch')\n",
        "plt.ylabel('loss')\n",
        "plt.legend(['train', 'val'])\n",
        "plt.show()"
      ],
      "execution_count": 28,
      "outputs": [
        {
          "output_type": "display_data",
          "data": {
            "image/png": "[encoded data removed]",
            "text/plain": [
              "<Figure size 432x288 with 1 Axes>"
            ]
          },
          "metadata": {
            "tags": [],
            "needs_background": "light"
          }
        }
      ]
    },
    {
      "cell_type": "code",
      "metadata": {
        "id": "-143UgrsGgIq"
      },
      "source": [
        ""
      ],
      "execution_count": null,
      "outputs": []
    }
  ]
}