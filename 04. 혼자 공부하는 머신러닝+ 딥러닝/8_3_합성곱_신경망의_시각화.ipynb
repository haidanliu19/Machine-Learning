{
  "nbformat": 4,
  "nbformat_minor": 0,
  "metadata": {
    "colab": {
      "name": "8.3 합성곱 신경망의 시각화.ipynb",
      "provenance": [],
      "collapsed_sections": []
    },
    "kernelspec": {
      "name": "python3",
      "display_name": "Python 3"
    },
    "language_info": {
      "name": "python"
    },
    "accelerator": "GPU"
  },
  "cells": [
    {
      "cell_type": "code",
      "metadata": {
        "id": "kycr_SyE0Jm4"
      },
      "source": [
        "from tensorflow import keras"
      ],
      "execution_count": 3,
      "outputs": []
    },
    {
      "cell_type": "code",
      "metadata": {
        "colab": {
          "base_uri": "https://localhost:8080/"
        },
        "id": "OSfJejQv03Qz",
        "outputId": "5eebeb0e-013d-42b0-ffda-41bd689bd2f7"
      },
      "source": [
        "# 코랩에서 실행하는 경우에는 다음 명령을 실행하여 best-cnn-model.h5 파일을 다운로드받아 사용하세요.\n",
        "!wget https://github.com/rickiepark/hg-mldl/raw/master/best-cnn-model.h5"
      ],
      "execution_count": 4,
      "outputs": [
        {
          "output_type": "stream",
          "text": [
            "--2021-06-19 10:33:28--  https://github.com/rickiepark/hg-mldl/raw/master/best-cnn-model.h5\n",
            "Resolving github.com (github.com)... 140.82.114.3\n",
            "Connecting to github.com (github.com)|140.82.114.3|:443... connected.\n",
            "HTTP request sent, awaiting response... 302 Found\n",
            "Location: https://raw.githubusercontent.com/rickiepark/hg-mldl/master/best-cnn-model.h5 [following]\n",
            "--2021-06-19 10:33:29--  https://raw.githubusercontent.com/rickiepark/hg-mldl/master/best-cnn-model.h5\n",
            "Resolving raw.githubusercontent.com (raw.githubusercontent.com)... 185.199.108.133, 185.199.109.133, 185.199.110.133, ...\n",
            "Connecting to raw.githubusercontent.com (raw.githubusercontent.com)|185.199.108.133|:443... connected.\n",
            "HTTP request sent, awaiting response... 200 OK\n",
            "Length: 4044200 (3.9M) [application/octet-stream]\n",
            "Saving to: ‘best-cnn-model.h5’\n",
            "\n",
            "best-cnn-model.h5   100%[===================>]   3.86M  --.-KB/s    in 0.1s    \n",
            "\n",
            "2021-06-19 10:33:29 (37.6 MB/s) - ‘best-cnn-model.h5’ saved [4044200/4044200]\n",
            "\n"
          ],
          "name": "stdout"
        }
      ]
    },
    {
      "cell_type": "code",
      "metadata": {
        "id": "9pkfdI86071q"
      },
      "source": [
        "model = keras.models.load_model('best-cnn-model.h5')"
      ],
      "execution_count": 5,
      "outputs": []
    },
    {
      "cell_type": "code",
      "metadata": {
        "colab": {
          "base_uri": "https://localhost:8080/"
        },
        "id": "FsVLWINV03UD",
        "outputId": "beab94f2-89ef-41ab-bc33-6d7cc1cd933d"
      },
      "source": [
        "model.layers"
      ],
      "execution_count": 6,
      "outputs": [
        {
          "output_type": "execute_result",
          "data": {
            "text/plain": [
              "[<tensorflow.python.keras.layers.convolutional.Conv2D at 0x7f8410fdea90>,\n",
              " <tensorflow.python.keras.layers.pooling.MaxPooling2D at 0x7f840f9e6d90>,\n",
              " <tensorflow.python.keras.layers.convolutional.Conv2D at 0x7f840f9cf650>,\n",
              " <tensorflow.python.keras.layers.pooling.MaxPooling2D at 0x7f83c4138c10>,\n",
              " <tensorflow.python.keras.layers.core.Flatten at 0x7f83c413ad10>,\n",
              " <tensorflow.python.keras.layers.core.Dense at 0x7f83c4143d50>,\n",
              " <tensorflow.python.keras.layers.core.Dropout at 0x7f83c40cad50>,\n",
              " <tensorflow.python.keras.layers.core.Dense at 0x7f83c40ca790>]"
            ]
          },
          "metadata": {
            "tags": []
          },
          "execution_count": 6
        }
      ]
    },
    {
      "cell_type": "code",
      "metadata": {
        "colab": {
          "base_uri": "https://localhost:8080/"
        },
        "id": "U1kV3J_R1ADm",
        "outputId": "ff88b6c6-6ea9-4a81-8fdd-8b253991297e"
      },
      "source": [
        "conv = model.layers[0]\n",
        "print(conv.weights[0].shape, conv.weights[1].shape)"
      ],
      "execution_count": 7,
      "outputs": [
        {
          "output_type": "stream",
          "text": [
            "(3, 3, 1, 32) (32,)\n"
          ],
          "name": "stdout"
        }
      ]
    },
    {
      "cell_type": "code",
      "metadata": {
        "colab": {
          "base_uri": "https://localhost:8080/",
          "height": 279
        },
        "id": "sU-hGiqm1AGs",
        "outputId": "a409af9e-5290-4b3e-d224-354145674109"
      },
      "source": [
        "import matplotlib.pyplot as plt\n",
        "conv_weights = conv.weights[0].numpy()\n",
        "\n",
        "plt.hist(conv_weights.reshape(-1, 1))\n",
        "plt.xlabel('weight')\n",
        "plt.ylabel('count')\n",
        "plt.show()"
      ],
      "execution_count": 8,
      "outputs": [
        {
          "output_type": "display_data",
          "data": {
            "image/png": "[encoded data removed]",
            "text/plain": [
              "<Figure size 432x288 with 1 Axes>"
            ]
          },
          "metadata": {
            "tags": [],
            "needs_background": "light"
          }
        }
      ]
    },
    {
      "cell_type": "code",
      "metadata": {
        "colab": {
          "base_uri": "https://localhost:8080/",
          "height": 154
        },
        "id": "M3aa-4dI1AJ6",
        "outputId": "c288deb1-9009-4bce-a7dd-6ab8629ef81e"
      },
      "source": [
        "fig, axs = plt.subplots(2,16, figsize=(15,2))\n",
        "\n",
        "for i in range(2):\n",
        "    for j in range(16):\n",
        "        axs[i,j].imshow(conv_weights[:,:,0,i*16+j], vmin=-0.5, vmax=0.5)\n",
        "        axs[i,j].axis('off')\n",
        "plt.show()"
      ],
      "execution_count": 9,
      "outputs": [
        {
          "output_type": "display_data",
          "data": {
            "image/png": "[encoded data removed]",
            "text/plain": [
              "<Figure size 1080x144 with 32 Axes>"
            ]
          },
          "metadata": {
            "tags": [],
            "needs_background": "light"
          }
        }
      ]
    },
    {
      "cell_type": "markdown",
      "metadata": {
        "id": "wVfmqoId2VsZ"
      },
      "source": [
        "# function API"
      ]
    },
    {
      "cell_type": "code",
      "metadata": {
        "colab": {
          "base_uri": "https://localhost:8080/"
        },
        "id": "jUTgLW5p3-tu",
        "outputId": "1de6e15d-c540-467b-888f-f16e9d8230c4"
      },
      "source": [
        "(train_input, train_target), (test_input, test_target) = keras.datasets.fashion_mnist.load_data()"
      ],
      "execution_count": 11,
      "outputs": [
        {
          "output_type": "stream",
          "text": [
            "Downloading data from https://storage.googleapis.com/tensorflow/tf-keras-datasets/train-labels-idx1-ubyte.gz\n",
            "32768/29515 [=================================] - 0s 0us/step\n",
            "Downloading data from https://storage.googleapis.com/tensorflow/tf-keras-datasets/train-images-idx3-ubyte.gz\n",
            "26427392/26421880 [==============================] - 0s 0us/step\n",
            "Downloading data from https://storage.googleapis.com/tensorflow/tf-keras-datasets/t10k-labels-idx1-ubyte.gz\n",
            "8192/5148 [===============================================] - 0s 0us/step\n",
            "Downloading data from https://storage.googleapis.com/tensorflow/tf-keras-datasets/t10k-images-idx3-ubyte.gz\n",
            "4423680/4422102 [==============================] - 0s 0us/step\n"
          ],
          "name": "stdout"
        }
      ]
    },
    {
      "cell_type": "code",
      "metadata": {
        "colab": {
          "base_uri": "https://localhost:8080/"
        },
        "id": "_g9fQQP81j9X",
        "outputId": "9a2f92ac-023e-43c7-af76-446db2ed715a"
      },
      "source": [
        "conv_acti = keras.Model(model.input, model.layers[0].output)\n",
        "\n",
        "inputs = train_input[0:1].reshape(-1, 28,28,1) /255.0\n",
        "feature_map = conv_acti.predict(inputs)\n",
        "print(feature_map)"
      ],
      "execution_count": 12,
      "outputs": [
        {
          "output_type": "stream",
          "text": [
            "[[[[0.         0.         0.         ... 0.         0.\n",
            "    0.31543908]\n",
            "   [0.         0.         0.         ... 0.         0.\n",
            "    0.31543908]\n",
            "   [0.         0.         0.         ... 0.         0.\n",
            "    0.31543908]\n",
            "   ...\n",
            "   [0.         0.         0.         ... 0.         0.\n",
            "    0.31543908]\n",
            "   [0.         0.         0.         ... 0.         0.\n",
            "    0.31543908]\n",
            "   [0.         0.         0.         ... 0.         0.\n",
            "    0.31543908]]\n",
            "\n",
            "  [[0.         0.         0.         ... 0.         0.\n",
            "    0.31543908]\n",
            "   [0.         0.         0.         ... 0.         0.\n",
            "    0.31543908]\n",
            "   [0.         0.         0.         ... 0.         0.\n",
            "    0.31543908]\n",
            "   ...\n",
            "   [0.         0.         0.         ... 0.         0.\n",
            "    0.31543908]\n",
            "   [0.         0.         0.         ... 0.         0.\n",
            "    0.31543908]\n",
            "   [0.         0.         0.         ... 0.         0.\n",
            "    0.31543908]]\n",
            "\n",
            "  [[0.         0.         0.         ... 0.         0.\n",
            "    0.31543908]\n",
            "   [0.         0.         0.         ... 0.         0.\n",
            "    0.31543908]\n",
            "   [0.         0.         0.         ... 0.         0.\n",
            "    0.31543908]\n",
            "   ...\n",
            "   [0.         0.         0.         ... 0.         0.\n",
            "    0.3069568 ]\n",
            "   [0.         0.         0.         ... 0.         0.\n",
            "    0.3067462 ]\n",
            "   [0.         0.         0.         ... 0.         0.\n",
            "    0.31115586]]\n",
            "\n",
            "  ...\n",
            "\n",
            "  [[0.         0.         0.         ... 0.         0.\n",
            "    0.30817863]\n",
            "   [0.         0.         0.         ... 0.         0.\n",
            "    0.30864695]\n",
            "   [0.         0.         0.         ... 0.         0.\n",
            "    0.31543908]\n",
            "   ...\n",
            "   [0.         0.0106944  0.         ... 0.06236095 0.\n",
            "    0.        ]\n",
            "   [0.         0.         0.         ... 0.02139557 0.\n",
            "    0.118467  ]\n",
            "   [0.         0.         0.         ... 0.         0.\n",
            "    0.31543908]]\n",
            "\n",
            "  [[0.         0.         0.         ... 0.         0.\n",
            "    0.31543908]\n",
            "   [0.         0.         0.         ... 0.         0.\n",
            "    0.31543908]\n",
            "   [0.         0.         0.         ... 0.         0.\n",
            "    0.31543908]\n",
            "   ...\n",
            "   [0.         0.         0.         ... 0.         0.\n",
            "    0.31543908]\n",
            "   [0.         0.         0.         ... 0.         0.\n",
            "    0.31543908]\n",
            "   [0.         0.         0.         ... 0.         0.\n",
            "    0.31543908]]\n",
            "\n",
            "  [[0.         0.         0.         ... 0.         0.\n",
            "    0.31543908]\n",
            "   [0.         0.         0.         ... 0.         0.\n",
            "    0.31543908]\n",
            "   [0.         0.         0.         ... 0.         0.\n",
            "    0.31543908]\n",
            "   ...\n",
            "   [0.         0.         0.         ... 0.         0.\n",
            "    0.31543908]\n",
            "   [0.         0.         0.         ... 0.         0.\n",
            "    0.31543908]\n",
            "   [0.         0.         0.         ... 0.         0.\n",
            "    0.31543908]]]]\n"
          ],
          "name": "stdout"
        }
      ]
    },
    {
      "cell_type": "markdown",
      "metadata": {
        "id": "JTZx3j494E1S"
      },
      "source": [
        "# 두번 째 특성 맵 시각화"
      ]
    },
    {
      "cell_type": "code",
      "metadata": {
        "colab": {
          "base_uri": "https://localhost:8080/"
        },
        "id": "rvM_QveJ1kAo",
        "outputId": "d9838bf9-3bf0-48c2-fbed-08453890e7b6"
      },
      "source": [
        "conv2_acti = keras.Model(model.input, model.layers[2].output)\n",
        "\n",
        "feature_map = conv2_acti.predict(inputs)\n",
        "print(feature_map.shape)"
      ],
      "execution_count": 14,
      "outputs": [
        {
          "output_type": "stream",
          "text": [
            "(1, 14, 14, 64)\n"
          ],
          "name": "stdout"
        }
      ]
    },
    {
      "cell_type": "code",
      "metadata": {
        "id": "I43ZLC7r4MOu"
      },
      "source": [
        ""
      ],
      "execution_count": null,
      "outputs": []
    }
  ]
}